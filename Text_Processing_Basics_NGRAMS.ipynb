{
  "nbformat": 4,
  "nbformat_minor": 0,
  "metadata": {
    "colab": {
      "name": "Text Processing Basics - NGRAMS.ipynb",
      "provenance": [],
      "collapsed_sections": [],
      "authorship_tag": "ABX9TyPgRdEE6+BxyXeRwu6f5CO/",
      "include_colab_link": true
    },
    "kernelspec": {
      "name": "python3",
      "display_name": "Python 3"
    },
    "language_info": {
      "name": "python"
    }
  },
  "cells": [
    {
      "cell_type": "markdown",
      "metadata": {
        "id": "view-in-github",
        "colab_type": "text"
      },
      "source": [
        "<a href=\"https://colab.research.google.com/github/aayushkubb/nlp/blob/main/Text_Processing_Basics_NGRAMS.ipynb\" target=\"_parent\"><img src=\"https://colab.research.google.com/assets/colab-badge.svg\" alt=\"Open In Colab\"/></a>"
      ]
    },
    {
      "cell_type": "code",
      "metadata": {
        "colab": {
          "base_uri": "https://localhost:8080/"
        },
        "id": "Czi6KgUtiWNU",
        "outputId": "7bfa1196-6413-43a0-fb5b-ba8a1675000d"
      },
      "source": [
        "import pandas as pd\n",
        "import nltk\n",
        "\n",
        "nltk.download('stopwords')\n",
        "nltk.download('punkt')\n",
        "from nltk.corpus import stopwords\n"
      ],
      "execution_count": null,
      "outputs": [
        {
          "output_type": "stream",
          "text": [
            "[nltk_data] Downloading package stopwords to /root/nltk_data...\n",
            "[nltk_data]   Package stopwords is already up-to-date!\n",
            "[nltk_data] Downloading package punkt to /root/nltk_data...\n",
            "[nltk_data]   Package punkt is already up-to-date!\n"
          ],
          "name": "stdout"
        }
      ]
    },
    {
      "cell_type": "code",
      "metadata": {
        "id": "JOy9eiWLhfUQ"
      },
      "source": [
        "#Sample tweets\n",
        "sentences=['Neeraj chopra is a great player','Neeraj Chopra won olympics','Neeraj Chopra is gold medalist now',\n",
        "           'India won first gold medal in tokyo 2020','first gold medal for india','india gold medal tally goes to one']"
      ],
      "execution_count": null,
      "outputs": []
    },
    {
      "cell_type": "code",
      "metadata": {
        "id": "6dWsT9mkjDNs"
      },
      "source": [
        "Stopwords = set(stopwords.words('english'))\n",
        "Stopwords.add(\"a\")"
      ],
      "execution_count": null,
      "outputs": []
    },
    {
      "cell_type": "code",
      "metadata": {
        "id": "6o4epYxDh7ol"
      },
      "source": [
        "\n",
        "tokens=[]\n",
        "for i in sentences:\n",
        "  tokens.extend(nltk.word_tokenize(i.lower()))"
      ],
      "execution_count": null,
      "outputs": []
    },
    {
      "cell_type": "code",
      "metadata": {
        "id": "A5Ldd5aui63q"
      },
      "source": [
        "for i in tokens:\n",
        "  if i in Stopwords:\n",
        "    tokens.remove(i)"
      ],
      "execution_count": null,
      "outputs": []
    },
    {
      "cell_type": "markdown",
      "metadata": {
        "id": "zrjo2--JktBR"
      },
      "source": [
        "#NGRAMS - Using NLTK"
      ]
    },
    {
      "cell_type": "code",
      "metadata": {
        "id": "u_3F5IW0ku99"
      },
      "source": [
        "from nltk.util import ngrams\n",
        "from collections import Counter\n",
        "\n",
        "#Unigrams\n",
        "unigrams=[i for i in ngrams(tokens,1)]\n",
        "unigrams=Counter(unigrams)\n",
        "\n",
        "#Bigrams\n",
        "bigrams=[i for i in ngrams(tokens,2)]\n",
        "bigrams=Counter(bigrams)\n",
        "\n",
        "#trigrams\n",
        "trigrams=[i for i in ngrams(tokens,3)]\n",
        "trigrams=Counter(trigrams)"
      ],
      "execution_count": null,
      "outputs": []
    },
    {
      "cell_type": "code",
      "metadata": {
        "colab": {
          "base_uri": "https://localhost:8080/"
        },
        "id": "m5ACcRw9lhfB",
        "outputId": "17121997-ba76-4daa-e8ca-60353eeb0ad0"
      },
      "source": [
        "bigrams.most_common(2)"
      ],
      "execution_count": null,
      "outputs": [
        {
          "output_type": "execute_result",
          "data": {
            "text/plain": [
              "[(('neeraj', 'chopra'), 3), (('gold', 'medal'), 3)]"
            ]
          },
          "metadata": {
            "tags": []
          },
          "execution_count": 53
        }
      ]
    },
    {
      "cell_type": "code",
      "metadata": {
        "colab": {
          "base_uri": "https://localhost:8080/"
        },
        "id": "HvkOcY8QmY4I",
        "outputId": "a402167d-8e5b-438c-9a1e-7fb86ac910b9"
      },
      "source": [
        "trigrams.most_common(1)"
      ],
      "execution_count": null,
      "outputs": [
        {
          "output_type": "execute_result",
          "data": {
            "text/plain": [
              "[(('first', 'gold', 'medal'), 2)]"
            ]
          },
          "metadata": {
            "tags": []
          },
          "execution_count": 54
        }
      ]
    },
    {
      "cell_type": "code",
      "metadata": {
        "colab": {
          "base_uri": "https://localhost:8080/"
        },
        "id": "XVkRUqfam5vO",
        "outputId": "f58bfda4-e056-4245-c771-654c0abdd103"
      },
      "source": [
        "trigrams"
      ],
      "execution_count": null,
      "outputs": [
        {
          "output_type": "execute_result",
          "data": {
            "text/plain": [
              "Counter({('2020', 'first', 'gold'): 1,\n",
              "         ('a', 'great', 'player'): 1,\n",
              "         ('chopra', 'a', 'great'): 1,\n",
              "         ('chopra', 'gold', 'medalist'): 1,\n",
              "         ('chopra', 'olympics', 'neeraj'): 1,\n",
              "         ('first', 'gold', 'medal'): 2,\n",
              "         ('gold', 'medal', 'india'): 1,\n",
              "         ('gold', 'medal', 'tally'): 1,\n",
              "         ('gold', 'medal', 'tokyo'): 1,\n",
              "         ('gold', 'medalist', 'india'): 1,\n",
              "         ('great', 'player', 'neeraj'): 1,\n",
              "         ('india', 'first', 'gold'): 1,\n",
              "         ('india', 'gold', 'medal'): 1,\n",
              "         ('india', 'india', 'gold'): 1,\n",
              "         ('medal', 'india', 'india'): 1,\n",
              "         ('medal', 'tally', 'goes'): 1,\n",
              "         ('medal', 'tokyo', '2020'): 1,\n",
              "         ('medalist', 'india', 'first'): 1,\n",
              "         ('neeraj', 'chopra', 'a'): 1,\n",
              "         ('neeraj', 'chopra', 'gold'): 1,\n",
              "         ('neeraj', 'chopra', 'olympics'): 1,\n",
              "         ('olympics', 'neeraj', 'chopra'): 1,\n",
              "         ('player', 'neeraj', 'chopra'): 1,\n",
              "         ('tally', 'goes', 'one'): 1,\n",
              "         ('tokyo', '2020', 'first'): 1})"
            ]
          },
          "metadata": {
            "tags": []
          },
          "execution_count": 56
        }
      ]
    },
    {
      "cell_type": "markdown",
      "metadata": {
        "id": "QkiPhb6Sm9om"
      },
      "source": [
        "# Using Collocations"
      ]
    },
    {
      "cell_type": "code",
      "metadata": {
        "colab": {
          "base_uri": "https://localhost:8080/",
          "height": 739
        },
        "id": "43jUIrnHiGKW",
        "outputId": "d6d09fd7-5bfe-48e3-e878-97f56cb6269a"
      },
      "source": [
        "bigrams = nltk.collocations.BigramAssocMeasures()\n",
        "bigramFinder = nltk.collocations.BigramCollocationFinder.from_words(tokens)\n",
        "\n",
        "#bigrams\n",
        "bigram_freq = bigramFinder.ngram_fd.items()\n",
        "bigramFreqTable = pd.DataFrame(list(bigram_freq), columns=['bigram','freq']).sort_values(by='freq', ascending=False)\n",
        "bigramFreqTable"
      ],
      "execution_count": null,
      "outputs": [
        {
          "output_type": "execute_result",
          "data": {
            "text/html": [
              "<div>\n",
              "<style scoped>\n",
              "    .dataframe tbody tr th:only-of-type {\n",
              "        vertical-align: middle;\n",
              "    }\n",
              "\n",
              "    .dataframe tbody tr th {\n",
              "        vertical-align: top;\n",
              "    }\n",
              "\n",
              "    .dataframe thead th {\n",
              "        text-align: right;\n",
              "    }\n",
              "</style>\n",
              "<table border=\"1\" class=\"dataframe\">\n",
              "  <thead>\n",
              "    <tr style=\"text-align: right;\">\n",
              "      <th></th>\n",
              "      <th>bigram</th>\n",
              "      <th>freq</th>\n",
              "    </tr>\n",
              "  </thead>\n",
              "  <tbody>\n",
              "    <tr>\n",
              "      <th>0</th>\n",
              "      <td>(neeraj, chopra)</td>\n",
              "      <td>3</td>\n",
              "    </tr>\n",
              "    <tr>\n",
              "      <th>12</th>\n",
              "      <td>(gold, medal)</td>\n",
              "      <td>3</td>\n",
              "    </tr>\n",
              "    <tr>\n",
              "      <th>11</th>\n",
              "      <td>(first, gold)</td>\n",
              "      <td>2</td>\n",
              "    </tr>\n",
              "    <tr>\n",
              "      <th>3</th>\n",
              "      <td>(great, player)</td>\n",
              "      <td>1</td>\n",
              "    </tr>\n",
              "    <tr>\n",
              "      <th>13</th>\n",
              "      <td>(medal, tokyo)</td>\n",
              "      <td>1</td>\n",
              "    </tr>\n",
              "    <tr>\n",
              "      <th>20</th>\n",
              "      <td>(tally, goes)</td>\n",
              "      <td>1</td>\n",
              "    </tr>\n",
              "    <tr>\n",
              "      <th>19</th>\n",
              "      <td>(medal, tally)</td>\n",
              "      <td>1</td>\n",
              "    </tr>\n",
              "    <tr>\n",
              "      <th>18</th>\n",
              "      <td>(india, gold)</td>\n",
              "      <td>1</td>\n",
              "    </tr>\n",
              "    <tr>\n",
              "      <th>17</th>\n",
              "      <td>(india, india)</td>\n",
              "      <td>1</td>\n",
              "    </tr>\n",
              "    <tr>\n",
              "      <th>16</th>\n",
              "      <td>(medal, india)</td>\n",
              "      <td>1</td>\n",
              "    </tr>\n",
              "    <tr>\n",
              "      <th>15</th>\n",
              "      <td>(2020, first)</td>\n",
              "      <td>1</td>\n",
              "    </tr>\n",
              "    <tr>\n",
              "      <th>14</th>\n",
              "      <td>(tokyo, 2020)</td>\n",
              "      <td>1</td>\n",
              "    </tr>\n",
              "    <tr>\n",
              "      <th>2</th>\n",
              "      <td>(a, great)</td>\n",
              "      <td>1</td>\n",
              "    </tr>\n",
              "    <tr>\n",
              "      <th>4</th>\n",
              "      <td>(player, neeraj)</td>\n",
              "      <td>1</td>\n",
              "    </tr>\n",
              "    <tr>\n",
              "      <th>1</th>\n",
              "      <td>(chopra, a)</td>\n",
              "      <td>1</td>\n",
              "    </tr>\n",
              "    <tr>\n",
              "      <th>10</th>\n",
              "      <td>(india, first)</td>\n",
              "      <td>1</td>\n",
              "    </tr>\n",
              "    <tr>\n",
              "      <th>9</th>\n",
              "      <td>(medalist, india)</td>\n",
              "      <td>1</td>\n",
              "    </tr>\n",
              "    <tr>\n",
              "      <th>8</th>\n",
              "      <td>(gold, medalist)</td>\n",
              "      <td>1</td>\n",
              "    </tr>\n",
              "    <tr>\n",
              "      <th>7</th>\n",
              "      <td>(chopra, gold)</td>\n",
              "      <td>1</td>\n",
              "    </tr>\n",
              "    <tr>\n",
              "      <th>6</th>\n",
              "      <td>(olympics, neeraj)</td>\n",
              "      <td>1</td>\n",
              "    </tr>\n",
              "    <tr>\n",
              "      <th>5</th>\n",
              "      <td>(chopra, olympics)</td>\n",
              "      <td>1</td>\n",
              "    </tr>\n",
              "    <tr>\n",
              "      <th>21</th>\n",
              "      <td>(goes, one)</td>\n",
              "      <td>1</td>\n",
              "    </tr>\n",
              "  </tbody>\n",
              "</table>\n",
              "</div>"
            ],
            "text/plain": [
              "                bigram  freq\n",
              "0     (neeraj, chopra)     3\n",
              "12       (gold, medal)     3\n",
              "11       (first, gold)     2\n",
              "3      (great, player)     1\n",
              "13      (medal, tokyo)     1\n",
              "20       (tally, goes)     1\n",
              "19      (medal, tally)     1\n",
              "18       (india, gold)     1\n",
              "17      (india, india)     1\n",
              "16      (medal, india)     1\n",
              "15       (2020, first)     1\n",
              "14       (tokyo, 2020)     1\n",
              "2           (a, great)     1\n",
              "4     (player, neeraj)     1\n",
              "1          (chopra, a)     1\n",
              "10      (india, first)     1\n",
              "9    (medalist, india)     1\n",
              "8     (gold, medalist)     1\n",
              "7       (chopra, gold)     1\n",
              "6   (olympics, neeraj)     1\n",
              "5   (chopra, olympics)     1\n",
              "21         (goes, one)     1"
            ]
          },
          "metadata": {
            "tags": []
          },
          "execution_count": 25
        }
      ]
    },
    {
      "cell_type": "code",
      "metadata": {
        "colab": {
          "base_uri": "https://localhost:8080/",
          "height": 833
        },
        "id": "vbcHEHbZiL9p",
        "outputId": "c3b0b09d-a35c-405f-ae90-cf09f956f34e"
      },
      "source": [
        "trigrams = nltk.collocations.TrigramAssocMeasures()\n",
        "trigramFinder = nltk.collocations.TrigramCollocationFinder.from_words(tokens)\n",
        "\n",
        "#trigrams\n",
        "trigram_freq = trigramFinder.ngram_fd.items()\n",
        "trigramFreqTable = pd.DataFrame(list(trigram_freq), columns=['bigram','freq']).sort_values(by='freq', ascending=False)\n",
        "trigramFreqTable"
      ],
      "execution_count": null,
      "outputs": [
        {
          "output_type": "execute_result",
          "data": {
            "text/html": [
              "<div>\n",
              "<style scoped>\n",
              "    .dataframe tbody tr th:only-of-type {\n",
              "        vertical-align: middle;\n",
              "    }\n",
              "\n",
              "    .dataframe tbody tr th {\n",
              "        vertical-align: top;\n",
              "    }\n",
              "\n",
              "    .dataframe thead th {\n",
              "        text-align: right;\n",
              "    }\n",
              "</style>\n",
              "<table border=\"1\" class=\"dataframe\">\n",
              "  <thead>\n",
              "    <tr style=\"text-align: right;\">\n",
              "      <th></th>\n",
              "      <th>bigram</th>\n",
              "      <th>freq</th>\n",
              "    </tr>\n",
              "  </thead>\n",
              "  <tbody>\n",
              "    <tr>\n",
              "      <th>13</th>\n",
              "      <td>(first, gold, medal)</td>\n",
              "      <td>2</td>\n",
              "    </tr>\n",
              "    <tr>\n",
              "      <th>0</th>\n",
              "      <td>(neeraj, chopra, a)</td>\n",
              "      <td>1</td>\n",
              "    </tr>\n",
              "    <tr>\n",
              "      <th>23</th>\n",
              "      <td>(medal, tally, goes)</td>\n",
              "      <td>1</td>\n",
              "    </tr>\n",
              "    <tr>\n",
              "      <th>22</th>\n",
              "      <td>(gold, medal, tally)</td>\n",
              "      <td>1</td>\n",
              "    </tr>\n",
              "    <tr>\n",
              "      <th>21</th>\n",
              "      <td>(india, gold, medal)</td>\n",
              "      <td>1</td>\n",
              "    </tr>\n",
              "    <tr>\n",
              "      <th>20</th>\n",
              "      <td>(india, india, gold)</td>\n",
              "      <td>1</td>\n",
              "    </tr>\n",
              "    <tr>\n",
              "      <th>19</th>\n",
              "      <td>(medal, india, india)</td>\n",
              "      <td>1</td>\n",
              "    </tr>\n",
              "    <tr>\n",
              "      <th>18</th>\n",
              "      <td>(gold, medal, india)</td>\n",
              "      <td>1</td>\n",
              "    </tr>\n",
              "    <tr>\n",
              "      <th>17</th>\n",
              "      <td>(2020, first, gold)</td>\n",
              "      <td>1</td>\n",
              "    </tr>\n",
              "    <tr>\n",
              "      <th>16</th>\n",
              "      <td>(tokyo, 2020, first)</td>\n",
              "      <td>1</td>\n",
              "    </tr>\n",
              "    <tr>\n",
              "      <th>15</th>\n",
              "      <td>(medal, tokyo, 2020)</td>\n",
              "      <td>1</td>\n",
              "    </tr>\n",
              "    <tr>\n",
              "      <th>14</th>\n",
              "      <td>(gold, medal, tokyo)</td>\n",
              "      <td>1</td>\n",
              "    </tr>\n",
              "    <tr>\n",
              "      <th>12</th>\n",
              "      <td>(india, first, gold)</td>\n",
              "      <td>1</td>\n",
              "    </tr>\n",
              "    <tr>\n",
              "      <th>1</th>\n",
              "      <td>(chopra, a, great)</td>\n",
              "      <td>1</td>\n",
              "    </tr>\n",
              "    <tr>\n",
              "      <th>11</th>\n",
              "      <td>(medalist, india, first)</td>\n",
              "      <td>1</td>\n",
              "    </tr>\n",
              "    <tr>\n",
              "      <th>10</th>\n",
              "      <td>(gold, medalist, india)</td>\n",
              "      <td>1</td>\n",
              "    </tr>\n",
              "    <tr>\n",
              "      <th>9</th>\n",
              "      <td>(chopra, gold, medalist)</td>\n",
              "      <td>1</td>\n",
              "    </tr>\n",
              "    <tr>\n",
              "      <th>8</th>\n",
              "      <td>(neeraj, chopra, gold)</td>\n",
              "      <td>1</td>\n",
              "    </tr>\n",
              "    <tr>\n",
              "      <th>7</th>\n",
              "      <td>(olympics, neeraj, chopra)</td>\n",
              "      <td>1</td>\n",
              "    </tr>\n",
              "    <tr>\n",
              "      <th>6</th>\n",
              "      <td>(chopra, olympics, neeraj)</td>\n",
              "      <td>1</td>\n",
              "    </tr>\n",
              "    <tr>\n",
              "      <th>5</th>\n",
              "      <td>(neeraj, chopra, olympics)</td>\n",
              "      <td>1</td>\n",
              "    </tr>\n",
              "    <tr>\n",
              "      <th>4</th>\n",
              "      <td>(player, neeraj, chopra)</td>\n",
              "      <td>1</td>\n",
              "    </tr>\n",
              "    <tr>\n",
              "      <th>3</th>\n",
              "      <td>(great, player, neeraj)</td>\n",
              "      <td>1</td>\n",
              "    </tr>\n",
              "    <tr>\n",
              "      <th>2</th>\n",
              "      <td>(a, great, player)</td>\n",
              "      <td>1</td>\n",
              "    </tr>\n",
              "    <tr>\n",
              "      <th>24</th>\n",
              "      <td>(tally, goes, one)</td>\n",
              "      <td>1</td>\n",
              "    </tr>\n",
              "  </tbody>\n",
              "</table>\n",
              "</div>"
            ],
            "text/plain": [
              "                        bigram  freq\n",
              "13        (first, gold, medal)     2\n",
              "0          (neeraj, chopra, a)     1\n",
              "23        (medal, tally, goes)     1\n",
              "22        (gold, medal, tally)     1\n",
              "21        (india, gold, medal)     1\n",
              "20        (india, india, gold)     1\n",
              "19       (medal, india, india)     1\n",
              "18        (gold, medal, india)     1\n",
              "17         (2020, first, gold)     1\n",
              "16        (tokyo, 2020, first)     1\n",
              "15        (medal, tokyo, 2020)     1\n",
              "14        (gold, medal, tokyo)     1\n",
              "12        (india, first, gold)     1\n",
              "1           (chopra, a, great)     1\n",
              "11    (medalist, india, first)     1\n",
              "10     (gold, medalist, india)     1\n",
              "9     (chopra, gold, medalist)     1\n",
              "8       (neeraj, chopra, gold)     1\n",
              "7   (olympics, neeraj, chopra)     1\n",
              "6   (chopra, olympics, neeraj)     1\n",
              "5   (neeraj, chopra, olympics)     1\n",
              "4     (player, neeraj, chopra)     1\n",
              "3      (great, player, neeraj)     1\n",
              "2           (a, great, player)     1\n",
              "24          (tally, goes, one)     1"
            ]
          },
          "metadata": {
            "tags": []
          },
          "execution_count": 26
        }
      ]
    },
    {
      "cell_type": "code",
      "metadata": {
        "id": "mcfaU5AcklsR"
      },
      "source": [
        ""
      ],
      "execution_count": null,
      "outputs": []
    }
  ]
}