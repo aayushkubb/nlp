{
  "nbformat": 4,
  "nbformat_minor": 0,
  "metadata": {
    "colab": {
      "name": "Text Preprocessing - Basics and intro to embeddings.ipynb",
      "provenance": [],
      "collapsed_sections": [],
      "toc_visible": true,
      "include_colab_link": true
    },
    "kernelspec": {
      "display_name": "Python 3",
      "language": "python",
      "name": "python3"
    },
    "language_info": {
      "codemirror_mode": {
        "name": "ipython",
        "version": 3
      },
      "file_extension": ".py",
      "mimetype": "text/x-python",
      "name": "python",
      "nbconvert_exporter": "python",
      "pygments_lexer": "ipython3",
      "version": "3.8.5"
    },
    "toc": {
      "base_numbering": 1,
      "nav_menu": {},
      "number_sections": true,
      "sideBar": true,
      "skip_h1_title": false,
      "title_cell": "Table of Contents",
      "title_sidebar": "Contents",
      "toc_cell": false,
      "toc_position": {
        "height": "calc(100% - 180px)",
        "left": "10px",
        "top": "150px",
        "width": "256px"
      },
      "toc_section_display": true,
      "toc_window_display": true
    }
  },
  "cells": [
    {
      "cell_type": "markdown",
      "metadata": {
        "id": "view-in-github",
        "colab_type": "text"
      },
      "source": [
        "<a href=\"https://colab.research.google.com/github/aayushkubb/nlp/blob/main/Text_Preprocessing_Basics_and_intro_to_embeddings.ipynb\" target=\"_parent\"><img src=\"https://colab.research.google.com/assets/colab-badge.svg\" alt=\"Open In Colab\"/></a>"
      ]
    },
    {
      "cell_type": "markdown",
      "metadata": {
        "id": "RR3wwwqOb8oh"
      },
      "source": [
        "<img src='https://drive.google.com/uc?id=11WfnSPn79Opv2rwTxldDYcv4Dv0pV-f3' />"
      ]
    },
    {
      "cell_type": "markdown",
      "metadata": {
        "id": "5i5HBU2is_s0"
      },
      "source": [
        "# Basic Text Preprocessing"
      ]
    },
    {
      "cell_type": "code",
      "metadata": {
        "ExecuteTime": {
          "end_time": "2021-04-24T06:18:50.201067Z",
          "start_time": "2021-04-24T06:18:47.830936Z"
        },
        "colab": {
          "base_uri": "https://localhost:8080/"
        },
        "id": "-kcABm_-s_s1",
        "outputId": "3f1ccb3b-b29e-4a7f-db53-0f96e9d0149a"
      },
      "source": [
        "import nltk\n",
        "nltk.download('punkt')"
      ],
      "execution_count": null,
      "outputs": [
        {
          "output_type": "stream",
          "name": "stdout",
          "text": [
            "[nltk_data] Downloading package punkt to /root/nltk_data...\n",
            "[nltk_data]   Unzipping tokenizers/punkt.zip.\n"
          ]
        },
        {
          "output_type": "execute_result",
          "data": {
            "text/plain": [
              "True"
            ]
          },
          "metadata": {},
          "execution_count": 1
        }
      ]
    },
    {
      "cell_type": "code",
      "metadata": {
        "ExecuteTime": {
          "end_time": "2021-04-24T06:18:51.392068Z",
          "start_time": "2021-04-24T06:18:51.372441Z"
        },
        "colab": {
          "base_uri": "https://localhost:8080/"
        },
        "id": "fKnKKRn1s_s2",
        "outputId": "ca61a376-18a5-4e3f-a7aa-1292b3e9a0fa"
      },
      "source": [
        "from nltk.tokenize import word_tokenize\n",
        "sentence = '''\n",
        "Hello I am Aayush living in Canada\n",
        "but mentally I am wandering in the streets of India\n",
        "eating american food\n",
        "living indian life\n",
        "drinking candian water'''\n",
        "tokens = word_tokenize(sentence)\n",
        "print(tokens)"
      ],
      "execution_count": null,
      "outputs": [
        {
          "output_type": "stream",
          "name": "stdout",
          "text": [
            "['Hello', 'I', 'am', 'Aayush', 'living', 'in', 'Canada', 'but', 'mentally', 'I', 'am', 'wandering', 'in', 'the', 'streets', 'of', 'India', 'eating', 'american', 'food', 'living', 'indian', 'life', 'drinking', 'candian', 'water']\n"
          ]
        }
      ]
    },
    {
      "cell_type": "code",
      "metadata": {
        "ExecuteTime": {
          "end_time": "2021-04-24T06:18:51.422650Z",
          "start_time": "2021-04-24T06:18:51.419643Z"
        },
        "id": "XiTvdqirs_s3"
      },
      "source": [
        "lowercase_word = []\n",
        "for word in tokens:\n",
        "    word = word.lower()\n",
        "#     print(word)\n",
        "    lowercase_word.append(word)"
      ],
      "execution_count": null,
      "outputs": []
    },
    {
      "cell_type": "code",
      "metadata": {
        "ExecuteTime": {
          "end_time": "2021-04-24T06:18:54.194703Z",
          "start_time": "2021-04-24T06:18:54.174652Z"
        },
        "colab": {
          "base_uri": "https://localhost:8080/"
        },
        "id": "fJJbloLZs_s3",
        "outputId": "4119d27a-9f35-4d0d-9487-3b15d5da5762"
      },
      "source": [
        "lowercase_word"
      ],
      "execution_count": null,
      "outputs": [
        {
          "output_type": "execute_result",
          "data": {
            "text/plain": [
              "['hello',\n",
              " 'i',\n",
              " 'am',\n",
              " 'aayush',\n",
              " 'living',\n",
              " 'in',\n",
              " 'canada',\n",
              " 'but',\n",
              " 'mentally',\n",
              " 'i',\n",
              " 'am',\n",
              " 'wandering',\n",
              " 'in',\n",
              " 'the',\n",
              " 'streets',\n",
              " 'of',\n",
              " 'india',\n",
              " 'eating',\n",
              " 'american',\n",
              " 'food',\n",
              " 'living',\n",
              " 'indian',\n",
              " 'life',\n",
              " 'drinking',\n",
              " 'candian',\n",
              " 'water']"
            ]
          },
          "metadata": {},
          "execution_count": 4
        }
      ]
    },
    {
      "cell_type": "code",
      "metadata": {
        "ExecuteTime": {
          "end_time": "2021-04-24T06:18:54.792383Z",
          "start_time": "2021-04-24T06:18:54.770915Z"
        },
        "colab": {
          "base_uri": "https://localhost:8080/"
        },
        "id": "vtj4A1mws_s4",
        "outputId": "0e7c9530-16b2-4813-df4b-de7560e5f41f"
      },
      "source": [
        "#PorterStemmer\n",
        "from nltk.stem.porter import PorterStemmer\n",
        "ps = PorterStemmer()\n",
        "for word in lowercase_word:\n",
        "    tokens = ps.stem(word)\n",
        "    print(word, \":\",tokens)"
      ],
      "execution_count": null,
      "outputs": [
        {
          "output_type": "stream",
          "name": "stdout",
          "text": [
            "hello : hello\n",
            "i : i\n",
            "am : am\n",
            "aayush : aayush\n",
            "living : live\n",
            "in : in\n",
            "canada : canada\n",
            "but : but\n",
            "mentally : mental\n",
            "i : i\n",
            "am : am\n",
            "wandering : wander\n",
            "in : in\n",
            "the : the\n",
            "streets : street\n",
            "of : of\n",
            "india : india\n",
            "eating : eat\n",
            "american : american\n",
            "food : food\n",
            "living : live\n",
            "indian : indian\n",
            "life : life\n",
            "drinking : drink\n",
            "candian : candian\n",
            "water : water\n"
          ]
        }
      ]
    },
    {
      "cell_type": "code",
      "metadata": {
        "ExecuteTime": {
          "end_time": "2021-04-24T06:18:55.906852Z",
          "start_time": "2021-04-24T06:18:55.863902Z"
        },
        "colab": {
          "base_uri": "https://localhost:8080/"
        },
        "id": "KfTQFA89s_s4",
        "outputId": "dd2b4af4-09aa-4dba-f488-bbd86bbf6279"
      },
      "source": [
        "import nltk\n",
        "nltk.download('wordnet')#Need to have this for Stemming"
      ],
      "execution_count": null,
      "outputs": [
        {
          "output_type": "stream",
          "name": "stdout",
          "text": [
            "[nltk_data] Downloading package wordnet to /root/nltk_data...\n",
            "[nltk_data]   Unzipping corpora/wordnet.zip.\n"
          ]
        },
        {
          "output_type": "execute_result",
          "data": {
            "text/plain": [
              "True"
            ]
          },
          "metadata": {},
          "execution_count": 6
        }
      ]
    },
    {
      "cell_type": "code",
      "metadata": {
        "ExecuteTime": {
          "end_time": "2021-04-24T06:18:57.981105Z",
          "start_time": "2021-04-24T06:18:56.882753Z"
        },
        "colab": {
          "base_uri": "https://localhost:8080/"
        },
        "id": "5gDiOQg2s_s5",
        "outputId": "216d9e38-0844-4771-bb92-9131072cae70"
      },
      "source": [
        "# Lemmatizer\n",
        "from nltk.stem import WordNetLemmatizer\n",
        "wml = WordNetLemmatizer()\n",
        "lemma = []\n",
        "for word in lowercase_word:\n",
        "    tokens = wml.lemmatize(word)\n",
        "    lemma.append(tokens)\n",
        "    print(word,\":\",tokens)"
      ],
      "execution_count": null,
      "outputs": [
        {
          "output_type": "stream",
          "name": "stdout",
          "text": [
            "hello : hello\n",
            "i : i\n",
            "am : am\n",
            "aayush : aayush\n",
            "living : living\n",
            "in : in\n",
            "canada : canada\n",
            "but : but\n",
            "mentally : mentally\n",
            "i : i\n",
            "am : am\n",
            "wandering : wandering\n",
            "in : in\n",
            "the : the\n",
            "streets : street\n",
            "of : of\n",
            "india : india\n",
            "eating : eating\n",
            "american : american\n",
            "food : food\n",
            "living : living\n",
            "indian : indian\n",
            "life : life\n",
            "drinking : drinking\n",
            "candian : candian\n",
            "water : water\n"
          ]
        }
      ]
    },
    {
      "cell_type": "code",
      "metadata": {
        "ExecuteTime": {
          "end_time": "2021-04-24T06:18:58.537513Z",
          "start_time": "2021-04-24T06:18:58.513535Z"
        },
        "colab": {
          "base_uri": "https://localhost:8080/"
        },
        "id": "6zigx1dzs_s6",
        "outputId": "0a90a32d-a20e-4586-c7fd-01620a1ffa10"
      },
      "source": [
        "import nltk\n",
        "nltk.download('stopwords')"
      ],
      "execution_count": null,
      "outputs": [
        {
          "output_type": "stream",
          "name": "stdout",
          "text": [
            "[nltk_data] Downloading package stopwords to /root/nltk_data...\n",
            "[nltk_data]   Unzipping corpora/stopwords.zip.\n"
          ]
        },
        {
          "output_type": "execute_result",
          "data": {
            "text/plain": [
              "True"
            ]
          },
          "metadata": {},
          "execution_count": 8
        }
      ]
    },
    {
      "cell_type": "code",
      "metadata": {
        "ExecuteTime": {
          "end_time": "2021-04-24T06:18:59.080071Z",
          "start_time": "2021-04-24T06:18:59.073222Z"
        },
        "id": "ucLIj3K_s_s6"
      },
      "source": [
        "from nltk.corpus import stopwords\n",
        "filter_words = []\n",
        "Stopwords = set(stopwords.words('english'))\n",
        "for word in lemma:\n",
        "    if word not in Stopwords:\n",
        "        filter_words.append(word)"
      ],
      "execution_count": null,
      "outputs": []
    },
    {
      "cell_type": "code",
      "metadata": {
        "ExecuteTime": {
          "end_time": "2021-04-24T06:19:02.350629Z",
          "start_time": "2021-04-24T06:19:02.344987Z"
        },
        "colab": {
          "base_uri": "https://localhost:8080/"
        },
        "id": "vlEX2_Mas_s7",
        "outputId": "e9bb8a13-2436-4505-a871-895ace63a318"
      },
      "source": [
        "len(lemma)"
      ],
      "execution_count": null,
      "outputs": [
        {
          "output_type": "execute_result",
          "data": {
            "text/plain": [
              "26"
            ]
          },
          "metadata": {},
          "execution_count": 10
        }
      ]
    },
    {
      "cell_type": "code",
      "metadata": {
        "ExecuteTime": {
          "end_time": "2021-04-24T06:19:02.706075Z",
          "start_time": "2021-04-24T06:19:02.687227Z"
        },
        "colab": {
          "base_uri": "https://localhost:8080/"
        },
        "id": "oT8p1btAs_s7",
        "outputId": "afb1a8f7-ec18-4d4f-9a46-e3360500b9cc"
      },
      "source": [
        "len(filter_words)"
      ],
      "execution_count": null,
      "outputs": [
        {
          "output_type": "execute_result",
          "data": {
            "text/plain": [
              "17"
            ]
          },
          "metadata": {},
          "execution_count": 11
        }
      ]
    },
    {
      "cell_type": "code",
      "metadata": {
        "ExecuteTime": {
          "end_time": "2021-04-24T06:19:03.620043Z",
          "start_time": "2021-04-24T06:19:03.608218Z"
        },
        "colab": {
          "base_uri": "https://localhost:8080/"
        },
        "id": "qsZtBwKZs_s7",
        "outputId": "798406fb-7fa6-4550-cf06-87166ea6e110"
      },
      "source": [
        "filter_words"
      ],
      "execution_count": null,
      "outputs": [
        {
          "output_type": "execute_result",
          "data": {
            "text/plain": [
              "['hello',\n",
              " 'aayush',\n",
              " 'living',\n",
              " 'canada',\n",
              " 'mentally',\n",
              " 'wandering',\n",
              " 'street',\n",
              " 'india',\n",
              " 'eating',\n",
              " 'american',\n",
              " 'food',\n",
              " 'living',\n",
              " 'indian',\n",
              " 'life',\n",
              " 'drinking',\n",
              " 'candian',\n",
              " 'water']"
            ]
          },
          "metadata": {},
          "execution_count": 12
        }
      ]
    },
    {
      "cell_type": "markdown",
      "metadata": {
        "id": "0AtfJzlHaOfg"
      },
      "source": [
        "# Converting Text to Features Using One Hot Encoding\n",
        "--\n",
        "The traditional method used for feature engineering is One Hot encoding.\n",
        "If anyone knows the basics of machine learning, One Hot encoding is\n",
        "something they should have come across for sure at some point of time or\n",
        "maybe most of the time. It is a process of converting categorical variables\n",
        "into features or columns and coding one or zero for the presence of that\n",
        "particular category. We are going to use the same logic here, and the\n",
        "number of features is going to be the number of total tokens present in the\n",
        "whole corpus.\n",
        "\n",
        "<small><b><font color='brown'>On hot encoding was covered under \"Machine Learning Course\" also.</font></b></small>"
      ]
    },
    {
      "cell_type": "markdown",
      "metadata": {
        "id": "CJJdLA11aOfj"
      },
      "source": [
        "Problem\n",
        "--\n",
        "You want to convert text to feature using One Hot encoding.\n",
        "\n",
        "Solution\n",
        "--\n",
        "One Hot Encoding will basically convert characters or words into binary\n",
        "numbers as shown below."
      ]
    },
    {
      "cell_type": "code",
      "metadata": {
        "colab": {
          "base_uri": "https://localhost:8080/",
          "height": 300
        },
        "id": "B5kk8CsNaOfk",
        "outputId": "90a08bbc-263b-4192-aca0-430d1c8afd64"
      },
      "source": [
        "Text = \"I am learning NLP , NLP is fun\"\n",
        "\n",
        "# Importing the library\n",
        "import pandas as pd\n",
        "\n",
        "# Generating the features\n",
        "pd.get_dummies(Text.split())"
      ],
      "execution_count": null,
      "outputs": [
        {
          "output_type": "execute_result",
          "data": {
            "text/html": [
              "<div>\n",
              "<style scoped>\n",
              "    .dataframe tbody tr th:only-of-type {\n",
              "        vertical-align: middle;\n",
              "    }\n",
              "\n",
              "    .dataframe tbody tr th {\n",
              "        vertical-align: top;\n",
              "    }\n",
              "\n",
              "    .dataframe thead th {\n",
              "        text-align: right;\n",
              "    }\n",
              "</style>\n",
              "<table border=\"1\" class=\"dataframe\">\n",
              "  <thead>\n",
              "    <tr style=\"text-align: right;\">\n",
              "      <th></th>\n",
              "      <th>,</th>\n",
              "      <th>I</th>\n",
              "      <th>NLP</th>\n",
              "      <th>am</th>\n",
              "      <th>fun</th>\n",
              "      <th>is</th>\n",
              "      <th>learning</th>\n",
              "    </tr>\n",
              "  </thead>\n",
              "  <tbody>\n",
              "    <tr>\n",
              "      <th>0</th>\n",
              "      <td>0</td>\n",
              "      <td>1</td>\n",
              "      <td>0</td>\n",
              "      <td>0</td>\n",
              "      <td>0</td>\n",
              "      <td>0</td>\n",
              "      <td>0</td>\n",
              "    </tr>\n",
              "    <tr>\n",
              "      <th>1</th>\n",
              "      <td>0</td>\n",
              "      <td>0</td>\n",
              "      <td>0</td>\n",
              "      <td>1</td>\n",
              "      <td>0</td>\n",
              "      <td>0</td>\n",
              "      <td>0</td>\n",
              "    </tr>\n",
              "    <tr>\n",
              "      <th>2</th>\n",
              "      <td>0</td>\n",
              "      <td>0</td>\n",
              "      <td>0</td>\n",
              "      <td>0</td>\n",
              "      <td>0</td>\n",
              "      <td>0</td>\n",
              "      <td>1</td>\n",
              "    </tr>\n",
              "    <tr>\n",
              "      <th>3</th>\n",
              "      <td>0</td>\n",
              "      <td>0</td>\n",
              "      <td>1</td>\n",
              "      <td>0</td>\n",
              "      <td>0</td>\n",
              "      <td>0</td>\n",
              "      <td>0</td>\n",
              "    </tr>\n",
              "    <tr>\n",
              "      <th>4</th>\n",
              "      <td>1</td>\n",
              "      <td>0</td>\n",
              "      <td>0</td>\n",
              "      <td>0</td>\n",
              "      <td>0</td>\n",
              "      <td>0</td>\n",
              "      <td>0</td>\n",
              "    </tr>\n",
              "    <tr>\n",
              "      <th>5</th>\n",
              "      <td>0</td>\n",
              "      <td>0</td>\n",
              "      <td>1</td>\n",
              "      <td>0</td>\n",
              "      <td>0</td>\n",
              "      <td>0</td>\n",
              "      <td>0</td>\n",
              "    </tr>\n",
              "    <tr>\n",
              "      <th>6</th>\n",
              "      <td>0</td>\n",
              "      <td>0</td>\n",
              "      <td>0</td>\n",
              "      <td>0</td>\n",
              "      <td>0</td>\n",
              "      <td>1</td>\n",
              "      <td>0</td>\n",
              "    </tr>\n",
              "    <tr>\n",
              "      <th>7</th>\n",
              "      <td>0</td>\n",
              "      <td>0</td>\n",
              "      <td>0</td>\n",
              "      <td>0</td>\n",
              "      <td>1</td>\n",
              "      <td>0</td>\n",
              "      <td>0</td>\n",
              "    </tr>\n",
              "  </tbody>\n",
              "</table>\n",
              "</div>"
            ],
            "text/plain": [
              "   ,  I  NLP  am  fun  is  learning\n",
              "0  0  1    0   0    0   0         0\n",
              "1  0  0    0   1    0   0         0\n",
              "2  0  0    0   0    0   0         1\n",
              "3  0  0    1   0    0   0         0\n",
              "4  1  0    0   0    0   0         0\n",
              "5  0  0    1   0    0   0         0\n",
              "6  0  0    0   0    0   1         0\n",
              "7  0  0    0   0    1   0         0"
            ]
          },
          "metadata": {},
          "execution_count": 13
        }
      ]
    },
    {
      "cell_type": "markdown",
      "metadata": {
        "id": "ulhfpIGIaOfr"
      },
      "source": [
        "Output has 7 features since the number of distinct words present in the input was 7."
      ]
    },
    {
      "cell_type": "markdown",
      "metadata": {
        "id": "Cb-DcqGqaOfs"
      },
      "source": [
        "Converting Text to Features Using Count Vectorizing\n",
        "--\n",
        "Above approach \"One hot encoding\" has a disadvantage. It does not take the\n",
        "frequency of the word occurring into consideration. If a particular word\n",
        "is appearing multiple times, there is a chance of missing the information\n",
        "if it is not included in the analysis. A count vectorizer will solve that\n",
        "problem.\n",
        "\n",
        "Problem\n",
        "--\n",
        "How do we convert text to feature using a count vectorizer?\n"
      ]
    },
    {
      "cell_type": "code",
      "metadata": {
        "id": "lleuMRj-aOft"
      },
      "source": [
        "#importing the function\n",
        "from sklearn.feature_extraction.text import CountVectorizer\n",
        "\n",
        "# Text\n",
        "text = [\"I love NLP and I will learn NLP in 2month \"]\n",
        "\n",
        "# create the transform\n",
        "\n",
        "\n",
        "# tokenizing\n",
        "\n",
        "\n",
        "# encode document\n",
        "\n",
        "\n",
        "# summarize & generating output\n",
        "\n"
      ],
      "execution_count": null,
      "outputs": []
    },
    {
      "cell_type": "markdown",
      "metadata": {
        "id": "zX3PbkyquInb"
      },
      "source": [
        "\n",
        "Solution\n",
        "--\n",
        "Count vectorizer is almost similar to One Hot encoding. The only\n",
        "difference is instead of checking whether the particular word is present or\n",
        "not, it will count the words that are present in the document.\n",
        "Observe the below example. The words “I” and “NLP” occur twice in\n",
        "the first document."
      ]
    },
    {
      "cell_type": "code",
      "metadata": {
        "colab": {
          "base_uri": "https://localhost:8080/"
        },
        "id": "DEL1lCpGuQnK",
        "outputId": "db3f3ea1-812f-45fb-b20a-4dc9ff803217"
      },
      "source": [
        "#importing the function\n",
        "from sklearn.feature_extraction.text import CountVectorizer\n",
        "\n",
        "# list of text documents\n",
        "text = [\"The quick brown fox jumped over the lazy dog.\"]\n",
        "\n",
        "# create the transform\n",
        "vectorizer = CountVectorizer()\n",
        "\n",
        "# tokenize and build vocab\n",
        "vectorizer.fit(text)\n",
        "\n",
        "# summarize\n",
        "print(vectorizer.vocabulary_)\n",
        "\n",
        "# encode document\n",
        "vector = vectorizer.transform(text)\n",
        "\n",
        "# summarize encoded vector\n",
        "print(vector.shape)\n",
        "print(type(vector))\n",
        "print(vector.toarray())"
      ],
      "execution_count": null,
      "outputs": [
        {
          "output_type": "stream",
          "name": "stdout",
          "text": [
            "{'the': 7, 'quick': 6, 'brown': 0, 'fox': 2, 'jumped': 3, 'over': 5, 'lazy': 4, 'dog': 1}\n",
            "(1, 8)\n",
            "<class 'scipy.sparse.csr.csr_matrix'>\n",
            "[[1 1 1 1 1 1 1 2]]\n"
          ]
        }
      ]
    },
    {
      "cell_type": "markdown",
      "metadata": {
        "id": "D3zWoVYUu2ry"
      },
      "source": [
        "The arrangement is done alphabatecially. and then the dict index is used to vectorize all the output."
      ]
    },
    {
      "cell_type": "code",
      "metadata": {
        "colab": {
          "base_uri": "https://localhost:8080/"
        },
        "id": "pSDbFUd2ukeI",
        "outputId": "adbd281c-ab75-4ead-e6be-57590bb8cd56"
      },
      "source": [
        "#importing the function\n",
        "from sklearn.feature_extraction.text import CountVectorizer\n",
        "\n",
        "# list of text documents\n",
        "text = [\"The quick brown fox jumped over a lazy dog.\"]\n",
        "\n",
        "# create the transform\n",
        "vectorizer2 = CountVectorizer()\n",
        "\n",
        "# tokenize and build vocab\n",
        "vectorizer2.fit(text)\n",
        "\n",
        "# summarize\n",
        "print(vectorizer2.vocabulary_)\n",
        "\n",
        "# encode document\n",
        "vector = vectorizer2.transform(text)\n",
        "\n",
        "# summarize encoded vector\n",
        "print(vector.shape)\n",
        "print(type(vector))\n",
        "print(vector.toarray())"
      ],
      "execution_count": null,
      "outputs": [
        {
          "output_type": "stream",
          "name": "stdout",
          "text": [
            "{'the': 7, 'quick': 6, 'brown': 0, 'fox': 2, 'jumped': 3, 'over': 5, 'lazy': 4, 'dog': 1}\n",
            "(1, 8)\n",
            "<class 'scipy.sparse.csr.csr_matrix'>\n",
            "[[1 1 1 1 1 1 1 1]]\n"
          ]
        }
      ]
    },
    {
      "cell_type": "markdown",
      "metadata": {
        "id": "JzYeYsECvKQR"
      },
      "source": [
        "\n",
        "**Note** : CountVectorizer does not consider single char words like `I` , `a`. "
      ]
    },
    {
      "cell_type": "markdown",
      "metadata": {
        "id": "B6GZ1fykaOfz"
      },
      "source": [
        "Generating N-grams\n",
        "--\n",
        "If you observe the above methods, each word is considered as a feature.\n",
        "There is a drawback to this method. It does not consider the previous and the next words, to see if that would give a proper and complete meaning to the words.\n",
        "\n",
        "For example: consider the word “not bad.” If this is split into individual\n",
        "words, then it will lose out on conveying “good” – which is what this word\n",
        "actually means.\n",
        "\n",
        "As we saw, we might lose potential information or insight because a lot of words make sense once they are put together. This problem can be solved by N-grams.\n",
        "\n",
        "N-grams are the fusion of multiple letters or multiple words. They are\n",
        "formed in such a way that even the previous and next words are captured.\n",
        "\n",
        "• Unigrams are the unique words present in the sentence.\n",
        "• Bigram is the combination of 2 words.\n",
        "• Trigram is 3 words and so on.\n",
        "\n",
        "For example,\n",
        "“I am learning NLP”\n",
        "\n",
        "Unigrams: “I”, “am”, “ learning”, “NLP”\n",
        "\n",
        "Bigrams: “I am”, “am learning”, “learning NLP”\n",
        "\n",
        "Trigrams: “I am learning”, “am learning NLP”"
      ]
    },
    {
      "cell_type": "markdown",
      "metadata": {
        "id": "dsbErmMlaOf0"
      },
      "source": [
        "Problem\n",
        "--\n",
        "Generate the N-grams for the given sentence.\n",
        "\n",
        "Solution\n",
        "--\n",
        "There are a lot of packages that will generate the N-grams. The one that is\n",
        "mostly used is TextBlob."
      ]
    },
    {
      "cell_type": "code",
      "metadata": {
        "colab": {
          "base_uri": "https://localhost:8080/"
        },
        "id": "jWnMJbI3s_s-",
        "outputId": "b88d2597-f3d6-46c1-85de-197cd30ac81e"
      },
      "source": [
        "!pip install textblob"
      ],
      "execution_count": null,
      "outputs": [
        {
          "output_type": "stream",
          "name": "stdout",
          "text": [
            "Requirement already satisfied: textblob in /usr/local/lib/python3.7/dist-packages (0.15.3)\n",
            "Requirement already satisfied: nltk>=3.1 in /usr/local/lib/python3.7/dist-packages (from textblob) (3.2.5)\n",
            "Requirement already satisfied: six in /usr/local/lib/python3.7/dist-packages (from nltk>=3.1->textblob) (1.15.0)\n"
          ]
        }
      ]
    },
    {
      "cell_type": "code",
      "metadata": {
        "colab": {
          "base_uri": "https://localhost:8080/"
        },
        "id": "pnWQk2e7Fawk",
        "outputId": "813d1ca0-5453-4e49-ec5f-6f5939bedb72"
      },
      "source": [
        "import nltk\n",
        "nltk.download('punkt')"
      ],
      "execution_count": null,
      "outputs": [
        {
          "output_type": "stream",
          "name": "stdout",
          "text": [
            "[nltk_data] Downloading package punkt to /root/nltk_data...\n",
            "[nltk_data]   Package punkt is already up-to-date!\n"
          ]
        },
        {
          "output_type": "execute_result",
          "data": {
            "text/plain": [
              "True"
            ]
          },
          "metadata": {},
          "execution_count": 18
        }
      ]
    },
    {
      "cell_type": "code",
      "metadata": {
        "colab": {
          "base_uri": "https://localhost:8080/"
        },
        "id": "q1QZNF4saOf1",
        "outputId": "b4c9daaf-21d1-4c2c-8eed-1ebbfb190471"
      },
      "source": [
        "\n",
        "Text = \"I am learning NLP\"\n",
        "\n",
        "# Use the below TextBlob function to create N-grams. Use the text that is\n",
        "# defined above and mention the “n” based on the requirement.\n",
        "\n",
        "#Import textblob\n",
        "from textblob import TextBlob\n",
        "\n",
        "#For unigram : Use n = 1\n",
        "TextBlob(Text).ngrams(1)"
      ],
      "execution_count": null,
      "outputs": [
        {
          "output_type": "execute_result",
          "data": {
            "text/plain": [
              "[WordList(['I']), WordList(['am']), WordList(['learning']), WordList(['NLP'])]"
            ]
          },
          "metadata": {},
          "execution_count": 19
        }
      ]
    },
    {
      "cell_type": "code",
      "metadata": {
        "colab": {
          "base_uri": "https://localhost:8080/"
        },
        "id": "1cy72o_yaOf5",
        "outputId": "aed40ca4-bf0f-493d-b66d-2f815885e06a"
      },
      "source": [
        "#For Bigram : use n = 2\n",
        "TextBlob(Text).ngrams(2)"
      ],
      "execution_count": null,
      "outputs": [
        {
          "output_type": "execute_result",
          "data": {
            "text/plain": [
              "[WordList(['I', 'am']),\n",
              " WordList(['am', 'learning']),\n",
              " WordList(['learning', 'NLP'])]"
            ]
          },
          "metadata": {},
          "execution_count": 20
        }
      ]
    },
    {
      "cell_type": "code",
      "metadata": {
        "colab": {
          "base_uri": "https://localhost:8080/"
        },
        "id": "g8eH0dwvaOf9",
        "outputId": "13a1fd95-e7e1-4179-f370-93ddad29b688"
      },
      "source": [
        "#For trigram : use n = 3\n",
        "TextBlob(Text).ngrams(3)"
      ],
      "execution_count": null,
      "outputs": [
        {
          "output_type": "execute_result",
          "data": {
            "text/plain": [
              "[WordList(['I', 'am', 'learning']), WordList(['am', 'learning', 'NLP'])]"
            ]
          },
          "metadata": {},
          "execution_count": 21
        }
      ]
    },
    {
      "cell_type": "markdown",
      "metadata": {
        "id": "j7ggJNWFvYB-"
      },
      "source": [
        "## Another way\n"
      ]
    },
    {
      "cell_type": "code",
      "metadata": {
        "colab": {
          "base_uri": "https://localhost:8080/"
        },
        "id": "QSs2pIxsvXTK",
        "outputId": "12251c93-8039-4449-d689-052f1ea01d84"
      },
      "source": [
        "import nltk\n",
        "\n",
        "word_data = \"The best performance can bring in sky high success.\"\n",
        "nltk_tokens = nltk.word_tokenize(word_data)  \t\n",
        "\n",
        "print(list(nltk.bigrams(nltk_tokens)))\n",
        "print(list(nltk.trigrams(nltk_tokens)))"
      ],
      "execution_count": null,
      "outputs": [
        {
          "output_type": "stream",
          "name": "stdout",
          "text": [
            "[('The', 'best'), ('best', 'performance'), ('performance', 'can'), ('can', 'bring'), ('bring', 'in'), ('in', 'sky'), ('sky', 'high'), ('high', 'success'), ('success', '.')]\n",
            "[('The', 'best', 'performance'), ('best', 'performance', 'can'), ('performance', 'can', 'bring'), ('can', 'bring', 'in'), ('bring', 'in', 'sky'), ('in', 'sky', 'high'), ('sky', 'high', 'success'), ('high', 'success', '.')]\n"
          ]
        }
      ]
    },
    {
      "cell_type": "markdown",
      "metadata": {
        "id": "cfgsKKcJvufu"
      },
      "source": [
        "# NGRAMS vs Colocations"
      ]
    },
    {
      "cell_type": "code",
      "metadata": {
        "id": "MLctlouxwrKR"
      },
      "source": [
        "sentences=[\"good experience at Rancho Valencia was absolutely perfect from beginning to end\",\n",
        "           \"good experience. Amazing place. Everyone was extremely warm and welcoming\",\n",
        "           \"We booked a three night stay at Rancho Valencia to play some tennis\",\n",
        "           \"bad experience but amazing place. I stayed here with my family for my daughters wedding at hotel\",\n",
        "           \"I travel a lot with my job, so I'm constantly staying at hotel\"]"
      ],
      "execution_count": null,
      "outputs": []
    },
    {
      "cell_type": "code",
      "metadata": {
        "id": "68arHT3Kx25R"
      },
      "source": [
        "tokens=[]\n",
        "for i in sentences:\n",
        "  tokens.extend(nltk.word_tokenize(i))"
      ],
      "execution_count": null,
      "outputs": []
    },
    {
      "cell_type": "code",
      "metadata": {
        "id": "OH4t3cXuvv7W"
      },
      "source": [
        "import nltk\n",
        "bigrams = nltk.collocations.BigramAssocMeasures()\n",
        "trigrams = nltk.collocations.TrigramAssocMeasures()\n",
        "bigramFinder = nltk.collocations.BigramCollocationFinder.from_words(tokens)\n",
        "trigramFinder = nltk.collocations.TrigramCollocationFinder.from_words(tokens)"
      ],
      "execution_count": null,
      "outputs": []
    },
    {
      "cell_type": "code",
      "metadata": {
        "id": "D3uZQwNxwC-b"
      },
      "source": [
        "#bigrams\n",
        "bigram_freq = bigramFinder.ngram_fd.items()\n",
        "bigramFreqTable = pd.DataFrame(list(bigram_freq), columns=['bigram','freq']).sort_values(by='freq', ascending=False)#trigrams\n",
        "trigram_freq = trigramFinder.ngram_fd.items()\n",
        "trigramFreqTable = pd.DataFrame(list(trigram_freq), columns=['trigram','freq']).sort_values(by='freq', ascending=False)"
      ],
      "execution_count": null,
      "outputs": []
    },
    {
      "cell_type": "code",
      "metadata": {
        "colab": {
          "base_uri": "https://localhost:8080/",
          "height": 424
        },
        "id": "hbwc-laewFR9",
        "outputId": "ac481318-9dd3-4199-e8c9-1ed0177c57b2"
      },
      "source": [
        "bigramFreqTable"
      ],
      "execution_count": null,
      "outputs": [
        {
          "output_type": "execute_result",
          "data": {
            "text/html": [
              "<div>\n",
              "<style scoped>\n",
              "    .dataframe tbody tr th:only-of-type {\n",
              "        vertical-align: middle;\n",
              "    }\n",
              "\n",
              "    .dataframe tbody tr th {\n",
              "        vertical-align: top;\n",
              "    }\n",
              "\n",
              "    .dataframe thead th {\n",
              "        text-align: right;\n",
              "    }\n",
              "</style>\n",
              "<table border=\"1\" class=\"dataframe\">\n",
              "  <thead>\n",
              "    <tr style=\"text-align: right;\">\n",
              "      <th></th>\n",
              "      <th>bigram</th>\n",
              "      <th>freq</th>\n",
              "    </tr>\n",
              "  </thead>\n",
              "  <tbody>\n",
              "    <tr>\n",
              "      <th>0</th>\n",
              "      <td>(good, experience)</td>\n",
              "      <td>2</td>\n",
              "    </tr>\n",
              "    <tr>\n",
              "      <th>42</th>\n",
              "      <td>(with, my)</td>\n",
              "      <td>2</td>\n",
              "    </tr>\n",
              "    <tr>\n",
              "      <th>15</th>\n",
              "      <td>(place, .)</td>\n",
              "      <td>2</td>\n",
              "    </tr>\n",
              "    <tr>\n",
              "      <th>49</th>\n",
              "      <td>(at, hotel)</td>\n",
              "      <td>2</td>\n",
              "    </tr>\n",
              "    <tr>\n",
              "      <th>3</th>\n",
              "      <td>(Rancho, Valencia)</td>\n",
              "      <td>2</td>\n",
              "    </tr>\n",
              "    <tr>\n",
              "      <th>...</th>\n",
              "      <td>...</td>\n",
              "      <td>...</td>\n",
              "    </tr>\n",
              "    <tr>\n",
              "      <th>27</th>\n",
              "      <td>(night, stay)</td>\n",
              "      <td>1</td>\n",
              "    </tr>\n",
              "    <tr>\n",
              "      <th>28</th>\n",
              "      <td>(stay, at)</td>\n",
              "      <td>1</td>\n",
              "    </tr>\n",
              "    <tr>\n",
              "      <th>29</th>\n",
              "      <td>(Valencia, to)</td>\n",
              "      <td>1</td>\n",
              "    </tr>\n",
              "    <tr>\n",
              "      <th>30</th>\n",
              "      <td>(to, play)</td>\n",
              "      <td>1</td>\n",
              "    </tr>\n",
              "    <tr>\n",
              "      <th>62</th>\n",
              "      <td>(staying, at)</td>\n",
              "      <td>1</td>\n",
              "    </tr>\n",
              "  </tbody>\n",
              "</table>\n",
              "<p>63 rows × 2 columns</p>\n",
              "</div>"
            ],
            "text/plain": [
              "                bigram  freq\n",
              "0   (good, experience)     2\n",
              "42          (with, my)     2\n",
              "15          (place, .)     2\n",
              "49         (at, hotel)     2\n",
              "3   (Rancho, Valencia)     2\n",
              "..                 ...   ...\n",
              "27       (night, stay)     1\n",
              "28          (stay, at)     1\n",
              "29      (Valencia, to)     1\n",
              "30          (to, play)     1\n",
              "62       (staying, at)     1\n",
              "\n",
              "[63 rows x 2 columns]"
            ]
          },
          "metadata": {},
          "execution_count": 27
        }
      ]
    },
    {
      "cell_type": "code",
      "metadata": {
        "id": "Bqi5ZMwqwRca"
      },
      "source": [
        "#filter for only those with more than 2 occurences\n",
        "bigramFinder.apply_freq_filter(2)\n",
        "trigramFinder.apply_freq_filter(2)\n",
        "bigramPMITable = pd.DataFrame(list(bigramFinder.score_ngrams(bigrams.pmi)), columns=['bigram','PMI']).sort_values(by='PMI', ascending=False)\n",
        "trigramPMITable = pd.DataFrame(list(trigramFinder.score_ngrams(trigrams.pmi)), columns=['trigram','PMI']).sort_values(by='PMI', ascending=False)"
      ],
      "execution_count": null,
      "outputs": []
    },
    {
      "cell_type": "code",
      "metadata": {
        "colab": {
          "base_uri": "https://localhost:8080/",
          "height": 237
        },
        "id": "vJYR3MK6y8YX",
        "outputId": "fd483408-63dd-46b7-8fbd-baa785308830"
      },
      "source": [
        "bigramPMITable"
      ],
      "execution_count": null,
      "outputs": [
        {
          "output_type": "execute_result",
          "data": {
            "text/html": [
              "<div>\n",
              "<style scoped>\n",
              "    .dataframe tbody tr th:only-of-type {\n",
              "        vertical-align: middle;\n",
              "    }\n",
              "\n",
              "    .dataframe tbody tr th {\n",
              "        vertical-align: top;\n",
              "    }\n",
              "\n",
              "    .dataframe thead th {\n",
              "        text-align: right;\n",
              "    }\n",
              "</style>\n",
              "<table border=\"1\" class=\"dataframe\">\n",
              "  <thead>\n",
              "    <tr style=\"text-align: right;\">\n",
              "      <th></th>\n",
              "      <th>bigram</th>\n",
              "      <th>PMI</th>\n",
              "    </tr>\n",
              "  </thead>\n",
              "  <tbody>\n",
              "    <tr>\n",
              "      <th>0</th>\n",
              "      <td>(Rancho, Valencia)</td>\n",
              "      <td>5.129283</td>\n",
              "    </tr>\n",
              "    <tr>\n",
              "      <th>1</th>\n",
              "      <td>(good, experience)</td>\n",
              "      <td>4.544321</td>\n",
              "    </tr>\n",
              "    <tr>\n",
              "      <th>2</th>\n",
              "      <td>(place, .)</td>\n",
              "      <td>4.544321</td>\n",
              "    </tr>\n",
              "    <tr>\n",
              "      <th>3</th>\n",
              "      <td>(with, my)</td>\n",
              "      <td>4.544321</td>\n",
              "    </tr>\n",
              "    <tr>\n",
              "      <th>4</th>\n",
              "      <td>(at, Rancho)</td>\n",
              "      <td>4.129283</td>\n",
              "    </tr>\n",
              "    <tr>\n",
              "      <th>5</th>\n",
              "      <td>(at, hotel)</td>\n",
              "      <td>4.129283</td>\n",
              "    </tr>\n",
              "  </tbody>\n",
              "</table>\n",
              "</div>"
            ],
            "text/plain": [
              "               bigram       PMI\n",
              "0  (Rancho, Valencia)  5.129283\n",
              "1  (good, experience)  4.544321\n",
              "2          (place, .)  4.544321\n",
              "3          (with, my)  4.544321\n",
              "4        (at, Rancho)  4.129283\n",
              "5         (at, hotel)  4.129283"
            ]
          },
          "metadata": {},
          "execution_count": 29
        }
      ]
    },
    {
      "cell_type": "code",
      "metadata": {
        "colab": {
          "base_uri": "https://localhost:8080/",
          "height": 80
        },
        "id": "EJ-DeitPwYpr",
        "outputId": "46177659-2759-4965-e257-fb429e8d2eab"
      },
      "source": [
        "trigramPMITable"
      ],
      "execution_count": null,
      "outputs": [
        {
          "output_type": "execute_result",
          "data": {
            "text/html": [
              "<div>\n",
              "<style scoped>\n",
              "    .dataframe tbody tr th:only-of-type {\n",
              "        vertical-align: middle;\n",
              "    }\n",
              "\n",
              "    .dataframe tbody tr th {\n",
              "        vertical-align: top;\n",
              "    }\n",
              "\n",
              "    .dataframe thead th {\n",
              "        text-align: right;\n",
              "    }\n",
              "</style>\n",
              "<table border=\"1\" class=\"dataframe\">\n",
              "  <thead>\n",
              "    <tr style=\"text-align: right;\">\n",
              "      <th></th>\n",
              "      <th>trigram</th>\n",
              "      <th>PMI</th>\n",
              "    </tr>\n",
              "  </thead>\n",
              "  <tbody>\n",
              "    <tr>\n",
              "      <th>0</th>\n",
              "      <td>(at, Rancho, Valencia)</td>\n",
              "      <td>9.258566</td>\n",
              "    </tr>\n",
              "  </tbody>\n",
              "</table>\n",
              "</div>"
            ],
            "text/plain": [
              "                  trigram       PMI\n",
              "0  (at, Rancho, Valencia)  9.258566"
            ]
          },
          "metadata": {},
          "execution_count": 30
        }
      ]
    },
    {
      "cell_type": "markdown",
      "metadata": {
        "id": "RERpLE85aOgC"
      },
      "source": [
        "## Transform and Inverse Transform"
      ]
    },
    {
      "cell_type": "code",
      "metadata": {
        "id": "6Otsp5SdaOgC",
        "colab": {
          "base_uri": "https://localhost:8080/"
        },
        "outputId": "614ada82-d0c8-425a-d8f9-0397d3ecc11e"
      },
      "source": [
        "#importing the function\n",
        "from sklearn.feature_extraction.text import CountVectorizer\n",
        "\n",
        "# list of text documents\n",
        "text = [\"The quick brown fox jumped over the lazy dog.\"]\n",
        "\n",
        "# create the transform\n",
        "vectorizer = CountVectorizer()\n",
        "\n",
        "# tokenize and build vocab\n",
        "vectorizer.fit(text)\n",
        "\n",
        "# summarize\n",
        "print(vectorizer.vocabulary_)\n",
        "\n",
        "# encode document\n",
        "vector = vectorizer.transform(text)\n",
        "\n",
        "# summarize encoded vector\n",
        "print(vector.shape)\n",
        "print(type(vector))\n",
        "print(vector.toarray())"
      ],
      "execution_count": null,
      "outputs": [
        {
          "output_type": "stream",
          "name": "stdout",
          "text": [
            "{'the': 7, 'quick': 6, 'brown': 0, 'fox': 2, 'jumped': 3, 'over': 5, 'lazy': 4, 'dog': 1}\n",
            "(1, 8)\n",
            "<class 'scipy.sparse.csr.csr_matrix'>\n",
            "[[1 1 1 1 1 1 1 2]]\n"
          ]
        }
      ]
    },
    {
      "cell_type": "code",
      "metadata": {
        "colab": {
          "base_uri": "https://localhost:8080/"
        },
        "id": "A3ocfTqos_tA",
        "outputId": "67375cbb-30b6-4d83-c1f8-e6b5c59b4445"
      },
      "source": [
        "vectorizer.transform([\"the rock hard\"]).toarray()"
      ],
      "execution_count": null,
      "outputs": [
        {
          "output_type": "execute_result",
          "data": {
            "text/plain": [
              "array([[0, 0, 0, 0, 0, 0, 0, 1]])"
            ]
          },
          "metadata": {},
          "execution_count": 32
        }
      ]
    },
    {
      "cell_type": "code",
      "metadata": {
        "colab": {
          "base_uri": "https://localhost:8080/"
        },
        "id": "dO3Tvheis_tA",
        "outputId": "e918c7f8-9a09-4585-c624-b323d2588af0"
      },
      "source": [
        "vectorizer.transform([\"the rock\"]).toarray()"
      ],
      "execution_count": null,
      "outputs": [
        {
          "output_type": "execute_result",
          "data": {
            "text/plain": [
              "array([[0, 0, 0, 0, 0, 0, 0, 1]])"
            ]
          },
          "metadata": {},
          "execution_count": 33
        }
      ]
    },
    {
      "cell_type": "code",
      "metadata": {
        "id": "YNTjnoBis_tB"
      },
      "source": [
        "# transform -- encoding\n",
        "# inverse_transform -- decoding"
      ],
      "execution_count": null,
      "outputs": []
    },
    {
      "cell_type": "code",
      "metadata": {
        "colab": {
          "base_uri": "https://localhost:8080/"
        },
        "id": "OUG2YlFk1INO",
        "outputId": "40e0ae61-3c83-4578-8d08-9063a6ebe68b"
      },
      "source": [
        "vectorizer.transform([\"the brown\"]).toarray()"
      ],
      "execution_count": null,
      "outputs": [
        {
          "output_type": "execute_result",
          "data": {
            "text/plain": [
              "array([[1, 0, 0, 0, 0, 0, 0, 1]])"
            ]
          },
          "metadata": {},
          "execution_count": 35
        }
      ]
    },
    {
      "cell_type": "code",
      "metadata": {
        "colab": {
          "base_uri": "https://localhost:8080/"
        },
        "id": "hV3XoZp21LE2",
        "outputId": "671493f2-a6ab-4ea6-f859-2fdac45f4912"
      },
      "source": [
        "vectorizer.inverse_transform([[1, 0, 0, 0, 0, 0, 0, 1]])"
      ],
      "execution_count": null,
      "outputs": [
        {
          "output_type": "execute_result",
          "data": {
            "text/plain": [
              "[array(['brown', 'the'], dtype='<U6')]"
            ]
          },
          "metadata": {},
          "execution_count": 36
        }
      ]
    },
    {
      "cell_type": "markdown",
      "metadata": {
        "id": "ungtP10j1pml"
      },
      "source": [
        "Generating Bigram-based features for a document using CountVectorizer\n",
        "--\n",
        "\n",
        "Just like in the last code-example, we used TextBlob class, we can do the same thing by using count vectorizer to generate features."
      ]
    },
    {
      "cell_type": "code",
      "metadata": {
        "colab": {
          "base_uri": "https://localhost:8080/"
        },
        "id": "u9M2_kJss_tB",
        "outputId": "ae1e3ddb-4da9-4cd9-cad7-63ca2a9567e4"
      },
      "source": [
        "# Try with zebra\n",
        "#importing the function\n",
        "from sklearn.feature_extraction.text import CountVectorizer\n",
        "\n",
        "# list of text documents\n",
        "text = [\"The quick brown fox jumped over the lazy dog. Zebra is good than dog. Zebra has Zebra stripes\"]\n",
        "\n",
        "# create the transform\n",
        "vectorizer = CountVectorizer(ngram_range=(2,2))\n",
        "\n",
        "# tokenize and build vocab\n",
        "vectorizer.fit(text)\n",
        "\n",
        "# summarize\n",
        "print(vectorizer.vocabulary_)\n",
        "\n",
        "# encode document\n",
        "vector = vectorizer.transform(text)\n",
        "\n",
        "# summarize encoded vector\n",
        "print(vector.shape)\n",
        "print(type(vector))\n",
        "print(vector.toarray())"
      ],
      "execution_count": null,
      "outputs": [
        {
          "output_type": "stream",
          "name": "stdout",
          "text": [
            "{'the quick': 12, 'quick brown': 9, 'brown fox': 0, 'fox jumped': 2, 'jumped over': 6, 'over the': 8, 'the lazy': 11, 'lazy dog': 7, 'dog zebra': 1, 'zebra is': 14, 'is good': 5, 'good than': 3, 'than dog': 10, 'zebra has': 13, 'has zebra': 4, 'zebra stripes': 15}\n",
            "(1, 16)\n",
            "<class 'scipy.sparse.csr.csr_matrix'>\n",
            "[[1 2 1 1 1 1 1 1 1 1 1 1 1 1 1 1]]\n"
          ]
        }
      ]
    },
    {
      "cell_type": "markdown",
      "metadata": {
        "id": "uA-yqxkbaOgM"
      },
      "source": [
        "The output has features with bigrams, and for our example, the count\n",
        "is one for all the tokens.\n",
        "\n",
        "Note : single letter words are not considered as \"words\" by the CountVectorizer"
      ]
    },
    {
      "cell_type": "markdown",
      "metadata": {
        "id": "v8WdXJ9yaOgN"
      },
      "source": [
        "Hash Vectorizing\n",
        "--\n",
        "CountVectorizer has one limitation. In this method, the vocabulary can \n",
        "become very large and cause memory/computation issues.\n",
        "\n",
        "One of the ways to solve this problem is a Hash Vectorizer."
      ]
    },
    {
      "cell_type": "markdown",
      "metadata": {
        "id": "wJgHqzAHaOgN"
      },
      "source": [
        "Problem\n",
        "--\n",
        "Understand and generate a Hash Vectorizer.\n",
        "\n",
        "Solution\n",
        "--\n",
        "Hash Vectorizer is memory efficient and instead of storing the tokens\n",
        "as strings, the vectorizer applies the hashing trick to encode them as\n",
        "numerical indexes. The downside is that it’s one way and once vectorized,\n",
        "the features cannot be retrieved.\n",
        "\n",
        "\n",
        "Counts and frequencies can be very useful, but one limitation of these methods is that the vocabulary can become very large.\n",
        "\n",
        "This, in turn, will require large vectors for encoding documents and impose large requirements on memory and slow down algorithms.\n",
        "\n",
        "A clever work around is to use a one way hash of words to convert them to integers. \n",
        "\n",
        "The clever part is that no vocabulary is required and you can choose an arbitrary-long fixed length vector. \n",
        "\n",
        "A downside is that the hash is a one-way function so there is no way to convert the encoding back to a word (which may not matter for many supervised learning tasks).\n",
        "\n",
        "\n",
        "Note that this vectorizer does not require a call to fit on the training data documents. Instead, after instantiation, it can be used directly to start encoding documents.\n",
        "\n",
        "Hashing vs TFIDF\n",
        "--\n",
        "The main difference is that HashingVectorizer applies a hashing function to term frequency counts in each document, where TfidfVectorizer scales those term frequency counts in each document by penalising terms that appear more widely across the corpus"
      ]
    },
    {
      "cell_type": "markdown",
      "metadata": {
        "id": "EnVw3Y6Cs_tC"
      },
      "source": [
        "![image.png](data:image/png;base64,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)"
      ]
    },
    {
      "cell_type": "code",
      "metadata": {
        "colab": {
          "base_uri": "https://localhost:8080/"
        },
        "id": "Y9MWtwgcaOgO",
        "outputId": "aebf6db5-5aac-4929-d11a-71faed787d8d"
      },
      "source": [
        "from sklearn.feature_extraction.text import HashingVectorizer\n",
        "\n",
        "# list of text documents\n",
        "text = [\"The quick brown fox jumped over the lazy dog.\"]\n",
        "\n",
        "# transform\n",
        "vectorizer = HashingVectorizer(n_features=10)\n",
        "# recommended reading : https://machinelearningmastery.com/prepare-text-data-machine-learning-scikit-learn/\n",
        "# https://datascience.stackexchange.com/questions/22250/what-is-the-difference-between-a-hashing-vectorizer-and-a-tfidf-vectorizer\n",
        "\n",
        "\n",
        "# create the hashing vector, direct transform\n",
        "vector = vectorizer.transform(text)\n",
        "\n",
        "# summarize the vector\n",
        "print(vector.shape)\n",
        "print(vector.toarray())"
      ],
      "execution_count": null,
      "outputs": [
        {
          "output_type": "stream",
          "name": "stdout",
          "text": [
            "(1, 10)\n",
            "[[ 0.          0.57735027  0.          0.          0.          0.\n",
            "   0.         -0.57735027 -0.57735027  0.        ]]\n"
          ]
        }
      ]
    },
    {
      "cell_type": "code",
      "metadata": {
        "colab": {
          "base_uri": "https://localhost:8080/"
        },
        "id": "RuqqrZ6os_tC",
        "outputId": "830c2d59-a722-4529-a0c1-f4cb949b1d64"
      },
      "source": [
        "from sklearn.feature_extraction.text import HashingVectorizer\n",
        "corpus = [\n",
        "    'This is the first document.',\n",
        "    'This document is the second document.',\n",
        "    'And this is the third one.',\n",
        "    'Is this the first document?',\n",
        "]\n",
        "vectorizer = HashingVectorizer(n_features=2**4)\n",
        "X = vectorizer.fit_transform(corpus)\n",
        "print(X.shape)"
      ],
      "execution_count": null,
      "outputs": [
        {
          "output_type": "stream",
          "name": "stdout",
          "text": [
            "(4, 16)\n"
          ]
        }
      ]
    },
    {
      "cell_type": "code",
      "metadata": {
        "colab": {
          "base_uri": "https://localhost:8080/"
        },
        "id": "Y8wtqBzus_tD",
        "outputId": "eb640ad9-55b7-41e3-cc4d-d6900cd00d43"
      },
      "source": [
        "# summarize the vector\n",
        "print(X.shape)\n",
        "print(X.toarray())"
      ],
      "execution_count": null,
      "outputs": [
        {
          "output_type": "stream",
          "name": "stdout",
          "text": [
            "(4, 16)\n",
            "[[-0.57735027  0.          0.          0.          0.          0.\n",
            "   0.          0.         -0.57735027  0.          0.          0.\n",
            "   0.          0.57735027  0.          0.        ]\n",
            " [-0.81649658  0.          0.          0.          0.          0.\n",
            "   0.          0.          0.          0.          0.          0.40824829\n",
            "   0.          0.40824829  0.          0.        ]\n",
            " [ 0.          0.          0.          0.         -0.70710678  0.70710678\n",
            "   0.          0.          0.          0.          0.          0.\n",
            "   0.          0.          0.          0.        ]\n",
            " [-0.57735027  0.          0.          0.          0.          0.\n",
            "   0.          0.         -0.57735027  0.          0.          0.\n",
            "   0.          0.57735027  0.          0.        ]]\n"
          ]
        }
      ]
    },
    {
      "cell_type": "markdown",
      "metadata": {
        "id": "QCidRlxhaOgS"
      },
      "source": [
        "It created vector of size 10 and now this can be used for any\n",
        "supervised/unsupervised tasks."
      ]
    },
    {
      "cell_type": "markdown",
      "metadata": {
        "id": "7pHHMcA1aOgT"
      },
      "source": [
        "https://medium.com/value-stream-design/introducing-one-of-the-best-hacks-in-machine-learning-the-hashing-trick-bf6a9c8af18f"
      ]
    },
    {
      "cell_type": "markdown",
      "metadata": {
        "id": "dsu8ThFYaOgU"
      },
      "source": [
        "Converting Text to Features Using TF-IDF\n",
        "--\n",
        "Again, in the above-mentioned text-to-feature methods, there are few drawbacks, hence the introduction of TF-IDF. \n",
        "\n",
        "Below are the disadvantages of the above methods.\n",
        "\n",
        "• Let’s say a particular word is appearing in all the documents of the corpus, then it will achieve higher importance in our previous methods. That’s bad for our analysis.\n",
        "\n",
        "• The whole idea of having TF-IDF is to reflect on how important a word is to a document in a collection, and hence normalizing words appeared frequently in all the documents.\n",
        "\n",
        "Problem\n",
        "--\n",
        "Text to feature using TF-IDF.\n",
        "\n",
        "Solution\n",
        "--\n",
        "Term frequency (TF): Term frequency is simply the ratio of the count of a\n",
        "word present in a sentence, to the length of the sentence.\n",
        "\n",
        "TF is basically capturing the importance of the word irrespective of the\n",
        "length of the document. For example, a word with the frequency of 3 with\n",
        "the length of sentence being 10 is not the same as when the word length of\n",
        "sentence is 100 words. It should get more importance in the first scenario;\n",
        "that is what TF does.\n",
        "\n",
        "Inverse Document Frequency (IDF): IDF of each word is the log of the ratio of the total number of rows to the number of rows in a particular document in which that word is present.\n",
        "\n",
        "IDF = log(N/n), where N is the total number of rows and n is the\n",
        "number of rows in which the word was present.\n",
        "\n",
        "IDF will measure the rareness of a term. Words like “a,” and “the” show\n",
        "up in all the documents of the corpus, but rare words will not be there\n",
        "in all the documents. So, if a word is appearing in almost all documents,\n",
        "then that word is of no use to us since it is not helping to classify or in\n",
        "information retrieval. IDF will nullify this problem.\n",
        "\n",
        "TF-IDF is the simple product of TF and IDF so that both of the drawbacks are addressed, which makes predictions and information retrieval relevant."
      ]
    },
    {
      "cell_type": "code",
      "metadata": {
        "ExecuteTime": {
          "end_time": "2021-04-24T06:36:58.543723Z",
          "start_time": "2021-04-24T06:36:58.520999Z"
        },
        "colab": {
          "base_uri": "https://localhost:8080/"
        },
        "id": "byFbP55RaOgU",
        "outputId": "b8b164cf-4e52-4b0f-f0cb-95ce36d1a4be"
      },
      "source": [
        "Text = [\"The quick brown fox jumped over the lazy dog.\",\n",
        "\"The dog.\",\n",
        "\"The fox\"]\n",
        "\n",
        "#Import TfidfVectorizer\n",
        "from sklearn.feature_extraction.text import TfidfVectorizer\n",
        "\n",
        "#Create the transform\n",
        "vectorizer = TfidfVectorizer()\n",
        "\n",
        "#Tokenize and build vocab\n",
        "vectorizer.fit(Text)\n",
        "\n",
        "#Summarize\n",
        "print(vectorizer.vocabulary_)\n",
        "print(vectorizer.idf_)"
      ],
      "execution_count": null,
      "outputs": [
        {
          "output_type": "stream",
          "name": "stdout",
          "text": [
            "{'the': 7, 'quick': 6, 'brown': 0, 'fox': 2, 'jumped': 3, 'over': 5, 'lazy': 4, 'dog': 1}\n",
            "[1.69314718 1.28768207 1.28768207 1.69314718 1.69314718 1.69314718\n",
            " 1.69314718 1.        ]\n"
          ]
        }
      ]
    },
    {
      "cell_type": "code",
      "metadata": {
        "ExecuteTime": {
          "end_time": "2021-04-24T06:38:27.327937Z",
          "start_time": "2021-04-24T06:38:27.307602Z"
        },
        "colab": {
          "base_uri": "https://localhost:8080/"
        },
        "id": "--aEwfV0s_tE",
        "outputId": "59a030b0-f59f-459f-a6a0-696403eb25c2"
      },
      "source": [
        "vectorizer.transform(Text).toarray()"
      ],
      "execution_count": null,
      "outputs": [
        {
          "output_type": "execute_result",
          "data": {
            "text/plain": [
              "array([[0.36388646, 0.27674503, 0.27674503, 0.36388646, 0.36388646,\n",
              "        0.36388646, 0.36388646, 0.42983441],\n",
              "       [0.        , 0.78980693, 0.        , 0.        , 0.        ,\n",
              "        0.        , 0.        , 0.61335554],\n",
              "       [0.        , 0.        , 0.78980693, 0.        , 0.        ,\n",
              "        0.        , 0.        , 0.61335554]])"
            ]
          },
          "metadata": {},
          "execution_count": 42
        }
      ]
    },
    {
      "cell_type": "code",
      "metadata": {
        "colab": {
          "base_uri": "https://localhost:8080/"
        },
        "id": "0va5cuYis_tE",
        "outputId": "4a7609dd-bce3-479d-d20a-8a6e6db1bb2b"
      },
      "source": [
        "Text = [\"The quick brown fox jumped over the lazy dog\",\n",
        "        \"The  brown fox jumped over the window\",\n",
        "        \"The brown lion kicked the fox\"]\n",
        "\n",
        "#Import TfidfVectorizer\n",
        "from sklearn.feature_extraction.text import TfidfVectorizer\n",
        "\n",
        "#Create the transform\n",
        "vectorizer = TfidfVectorizer()\n",
        "\n",
        "#Tokenize and build vocab\n",
        "vectorizer.fit(Text)\n",
        "\n",
        "#Summarize\n",
        "print(vectorizer.vocabulary_)\n",
        "print(vectorizer.idf_)"
      ],
      "execution_count": null,
      "outputs": [
        {
          "output_type": "stream",
          "name": "stdout",
          "text": [
            "{'the': 9, 'quick': 8, 'brown': 0, 'fox': 2, 'jumped': 3, 'over': 7, 'lazy': 5, 'dog': 1, 'window': 10, 'lion': 6, 'kicked': 4}\n",
            "[1.         1.69314718 1.         1.28768207 1.69314718 1.69314718\n",
            " 1.69314718 1.28768207 1.69314718 1.         1.69314718]\n"
          ]
        }
      ]
    },
    {
      "cell_type": "markdown",
      "metadata": {
        "id": "ePtUDtS6aOgY"
      },
      "source": [
        "If you observe, “the” is appearing in all the 3 documents and it does\n",
        "not add much value, and hence the vector value is 1, which is less than all\n",
        "the other vector representations of the tokens.\n",
        "\n",
        "All these methods or techniques we have looked into so far are based\n",
        "on frequency and hence called frequency-based embeddings or features.\n",
        "And in the next section, let us look at prediction-based embeddings,\n",
        "typically called word embeddings."
      ]
    },
    {
      "cell_type": "markdown",
      "metadata": {
        "id": "11QKln3twveU"
      },
      "source": [
        "# Word Embeddings\n",
        "## Word2Vec"
      ]
    },
    {
      "cell_type": "code",
      "metadata": {
        "id": "DerxyMarwufk"
      },
      "source": [
        "import gensim\n",
        "from gensim.models import  Word2Vec"
      ],
      "execution_count": null,
      "outputs": []
    },
    {
      "cell_type": "code",
      "metadata": {
        "id": "oa5u1ce7w-M8"
      },
      "source": [
        "sentences=[\"good experience at Rancho Valencia was absolutely perfect from beginning to end\",\n",
        "           \"good experience. Amazing place. Everyone was extremely warm and welcoming\",\n",
        "           \"We booked a three night stay at Rancho Valencia to play some tennis\",\n",
        "           \"bad experience but amazing place. I stayed here with my family for my daughters wedding at hotel\",\n",
        "           \"I travel a lot with my job, so I'm constantly staying at hotel\"]"
      ],
      "execution_count": null,
      "outputs": []
    },
    {
      "cell_type": "markdown",
      "metadata": {
        "id": "dMQX6yB6yG91"
      },
      "source": [
        "# Lowercase\n",
        "# Remove full stops, commas\n",
        "# Tokenize"
      ]
    },
    {
      "cell_type": "code",
      "metadata": {
        "colab": {
          "base_uri": "https://localhost:8080/"
        },
        "id": "YG2RF0sZyLlJ",
        "outputId": "42de9d6a-fe01-44ac-f8ee-3ad922aa7743"
      },
      "source": [
        "for i in sentences:\n",
        "  print(i.lower())"
      ],
      "execution_count": null,
      "outputs": [
        {
          "output_type": "stream",
          "name": "stdout",
          "text": [
            "good experience at rancho valencia was absolutely perfect from beginning to end\n",
            "good experience. amazing place. everyone was extremely warm and welcoming\n",
            "we booked a three night stay at rancho valencia to play some tennis\n",
            "bad experience but amazing place. i stayed here with my family for my daughters wedding at hotel\n",
            "i travel a lot with my job, so i'm constantly staying at hotel\n"
          ]
        }
      ]
    },
    {
      "cell_type": "code",
      "metadata": {
        "id": "-K_TrxCWy4iP"
      },
      "source": [
        "sentences=[i.lower() for i in sentences]"
      ],
      "execution_count": null,
      "outputs": []
    },
    {
      "cell_type": "code",
      "metadata": {
        "colab": {
          "base_uri": "https://localhost:8080/",
          "height": 36
        },
        "id": "MB-yKX0FzBnT",
        "outputId": "b9b61e3d-265d-4e73-8a34-de4be7a59f48"
      },
      "source": [
        "import re\n",
        "re.sub(r\"[.,?#]\",\"okay\",\"this is hey you . ?\")"
      ],
      "execution_count": null,
      "outputs": [
        {
          "output_type": "execute_result",
          "data": {
            "application/vnd.google.colaboratory.intrinsic+json": {
              "type": "string"
            },
            "text/plain": [
              "'this is hey you okay okay'"
            ]
          },
          "metadata": {},
          "execution_count": 52
        }
      ]
    },
    {
      "cell_type": "code",
      "metadata": {
        "id": "o0hkcUZRzUlH"
      },
      "source": [
        "sentences=[re.sub(\"[,.']\",\"\",i) for i in sentences]"
      ],
      "execution_count": null,
      "outputs": []
    },
    {
      "cell_type": "code",
      "metadata": {
        "colab": {
          "base_uri": "https://localhost:8080/"
        },
        "id": "_p0d7Hl20FU-",
        "outputId": "bbd28ec1-c116-466d-c171-77b9fbdef31a"
      },
      "source": [
        "sentences"
      ],
      "execution_count": null,
      "outputs": [
        {
          "output_type": "execute_result",
          "data": {
            "text/plain": [
              "['good experience at rancho valencia was absolutely perfect from beginning to end',\n",
              " 'good experience amazing place everyone was extremely warm and welcoming',\n",
              " 'we booked a three night stay at rancho valencia to play some tennis',\n",
              " 'bad experience but amazing place i stayed here with my family for my daughters wedding at hotel',\n",
              " 'i travel a lot with my job so im constantly staying at hotel']"
            ]
          },
          "metadata": {},
          "execution_count": 54
        }
      ]
    },
    {
      "cell_type": "code",
      "metadata": {
        "id": "uOTwfdB74ReS",
        "colab": {
          "base_uri": "https://localhost:8080/"
        },
        "outputId": "39fc8e02-89d0-4cd0-8628-5499c2f3ca8c"
      },
      "source": [
        "import nltk\n",
        "sentences=[nltk.word_tokenize(i) for i in sentences] \n",
        "sentences"
      ],
      "execution_count": null,
      "outputs": [
        {
          "output_type": "execute_result",
          "data": {
            "text/plain": [
              "[['good',\n",
              "  'experience',\n",
              "  'at',\n",
              "  'rancho',\n",
              "  'valencia',\n",
              "  'was',\n",
              "  'absolutely',\n",
              "  'perfect',\n",
              "  'from',\n",
              "  'beginning',\n",
              "  'to',\n",
              "  'end'],\n",
              " ['good',\n",
              "  'experience',\n",
              "  'amazing',\n",
              "  'place',\n",
              "  'everyone',\n",
              "  'was',\n",
              "  'extremely',\n",
              "  'warm',\n",
              "  'and',\n",
              "  'welcoming'],\n",
              " ['we',\n",
              "  'booked',\n",
              "  'a',\n",
              "  'three',\n",
              "  'night',\n",
              "  'stay',\n",
              "  'at',\n",
              "  'rancho',\n",
              "  'valencia',\n",
              "  'to',\n",
              "  'play',\n",
              "  'some',\n",
              "  'tennis'],\n",
              " ['bad',\n",
              "  'experience',\n",
              "  'but',\n",
              "  'amazing',\n",
              "  'place',\n",
              "  'i',\n",
              "  'stayed',\n",
              "  'here',\n",
              "  'with',\n",
              "  'my',\n",
              "  'family',\n",
              "  'for',\n",
              "  'my',\n",
              "  'daughters',\n",
              "  'wedding',\n",
              "  'at',\n",
              "  'hotel'],\n",
              " ['i',\n",
              "  'travel',\n",
              "  'a',\n",
              "  'lot',\n",
              "  'with',\n",
              "  'my',\n",
              "  'job',\n",
              "  'so',\n",
              "  'im',\n",
              "  'constantly',\n",
              "  'staying',\n",
              "  'at',\n",
              "  'hotel']]"
            ]
          },
          "metadata": {},
          "execution_count": 73
        }
      ]
    },
    {
      "cell_type": "code",
      "metadata": {
        "id": "mf1Qtzm_4cBp"
      },
      "source": [
        "#skipgram\n",
        "skip_gram= Word2Vec(sentences,size=50,window=6,min_count=1,sg=1)"
      ],
      "execution_count": null,
      "outputs": []
    },
    {
      "cell_type": "code",
      "metadata": {
        "id": "E9WVvCjQ6h1R",
        "colab": {
          "base_uri": "https://localhost:8080/"
        },
        "outputId": "3c6965b8-98af-4bed-858d-aa4a9a9d1e72"
      },
      "source": [
        "print(skip_gram['family'])"
      ],
      "execution_count": null,
      "outputs": [
        {
          "output_type": "stream",
          "name": "stdout",
          "text": [
            "[ 4.3218611e-03 -3.2386504e-04  7.7999369e-03 -8.4743556e-03\n",
            " -4.9776357e-04  3.8069380e-03 -1.7189451e-03  3.2465071e-03\n",
            "  9.4113583e-03 -2.6028568e-03  5.8170187e-04 -2.9537058e-03\n",
            " -7.0947490e-04  9.6187904e-04  2.4649389e-03  7.0351623e-03\n",
            "  3.6782641e-03  9.6502958e-04 -1.8044327e-03 -8.7708293e-04\n",
            "  5.2576954e-03 -4.6747350e-03 -8.4506609e-03 -7.4689887e-03\n",
            " -6.2430539e-05  3.5528254e-03  3.8700849e-03 -4.0458688e-03\n",
            "  4.4309306e-03  5.2428390e-03 -2.9984403e-03  8.8422484e-04\n",
            " -6.8594324e-03  8.2842968e-03 -4.4130054e-03 -3.3980927e-03\n",
            " -2.0888688e-03  8.7501993e-03  6.8632019e-04 -7.9294378e-03\n",
            "  4.7761262e-03  9.7155375e-03  4.5305896e-03 -6.8368223e-03\n",
            " -6.9506136e-03 -4.4139815e-03 -5.8964207e-03  7.9591246e-03\n",
            " -9.7422507e-03  3.4747168e-03]\n"
          ]
        },
        {
          "output_type": "stream",
          "name": "stderr",
          "text": [
            "/usr/local/lib/python3.7/dist-packages/ipykernel_launcher.py:1: DeprecationWarning: Call to deprecated `__getitem__` (Method will be removed in 4.0.0, use self.wv.__getitem__() instead).\n",
            "  \"\"\"Entry point for launching an IPython kernel.\n"
          ]
        }
      ]
    },
    {
      "cell_type": "code",
      "metadata": {
        "id": "11LHa0Q66mXf",
        "colab": {
          "base_uri": "https://localhost:8080/"
        },
        "outputId": "c8379f1a-c912-4377-df49-cc15cb92d715"
      },
      "source": [
        "print(skip_gram['my'])"
      ],
      "execution_count": null,
      "outputs": [
        {
          "output_type": "stream",
          "name": "stdout",
          "text": [
            "[ 0.00238177  0.00877768 -0.00653035  0.00354718 -0.00593002  0.00801821\n",
            "  0.00854762  0.00491641 -0.00035541  0.00186119  0.00980619  0.00741374\n",
            "  0.00283125  0.00733066 -0.00945251  0.00434042  0.00823063 -0.00692831\n",
            "  0.00840187  0.00947849  0.00619965 -0.00536032  0.0057495  -0.0040257\n",
            "  0.00685653 -0.00099034  0.00320903  0.00490166 -0.00867296  0.0005359\n",
            " -0.00177086  0.00105852 -0.00744338 -0.00893992  0.00448014  0.00990229\n",
            "  0.00706509 -0.00387503  0.00522692  0.00990357  0.00224722  0.00544049\n",
            " -0.00818092  0.00220341 -0.00825432 -0.0002231  -0.00388007 -0.00152014\n",
            "  0.00310214  0.00310948]\n"
          ]
        },
        {
          "output_type": "stream",
          "name": "stderr",
          "text": [
            "/usr/local/lib/python3.7/dist-packages/ipykernel_launcher.py:1: DeprecationWarning: Call to deprecated `__getitem__` (Method will be removed in 4.0.0, use self.wv.__getitem__() instead).\n",
            "  \"\"\"Entry point for launching an IPython kernel.\n"
          ]
        }
      ]
    },
    {
      "cell_type": "code",
      "metadata": {
        "id": "0hLFtNmh6s6a",
        "colab": {
          "base_uri": "https://localhost:8080/"
        },
        "outputId": "f09c781e-007c-4123-da18-516c9deb92b0"
      },
      "source": [
        "skip_gram.wv['family']"
      ],
      "execution_count": null,
      "outputs": [
        {
          "output_type": "execute_result",
          "data": {
            "text/plain": [
              "array([ 4.3218611e-03, -3.2386504e-04,  7.7999369e-03, -8.4743556e-03,\n",
              "       -4.9776357e-04,  3.8069380e-03, -1.7189451e-03,  3.2465071e-03,\n",
              "        9.4113583e-03, -2.6028568e-03,  5.8170187e-04, -2.9537058e-03,\n",
              "       -7.0947490e-04,  9.6187904e-04,  2.4649389e-03,  7.0351623e-03,\n",
              "        3.6782641e-03,  9.6502958e-04, -1.8044327e-03, -8.7708293e-04,\n",
              "        5.2576954e-03, -4.6747350e-03, -8.4506609e-03, -7.4689887e-03,\n",
              "       -6.2430539e-05,  3.5528254e-03,  3.8700849e-03, -4.0458688e-03,\n",
              "        4.4309306e-03,  5.2428390e-03, -2.9984403e-03,  8.8422484e-04,\n",
              "       -6.8594324e-03,  8.2842968e-03, -4.4130054e-03, -3.3980927e-03,\n",
              "       -2.0888688e-03,  8.7501993e-03,  6.8632019e-04, -7.9294378e-03,\n",
              "        4.7761262e-03,  9.7155375e-03,  4.5305896e-03, -6.8368223e-03,\n",
              "       -6.9506136e-03, -4.4139815e-03, -5.8964207e-03,  7.9591246e-03,\n",
              "       -9.7422507e-03,  3.4747168e-03], dtype=float32)"
            ]
          },
          "metadata": {},
          "execution_count": 89
        }
      ]
    },
    {
      "cell_type": "code",
      "metadata": {
        "id": "v9R0ldDZ7oZX",
        "colab": {
          "base_uri": "https://localhost:8080/"
        },
        "outputId": "7cf4685c-b6e1-422c-a430-0724337e1ff7"
      },
      "source": [
        "skip_gram['family']"
      ],
      "execution_count": null,
      "outputs": [
        {
          "output_type": "stream",
          "name": "stderr",
          "text": [
            "/usr/local/lib/python3.7/dist-packages/ipykernel_launcher.py:1: DeprecationWarning: Call to deprecated `__getitem__` (Method will be removed in 4.0.0, use self.wv.__getitem__() instead).\n",
            "  \"\"\"Entry point for launching an IPython kernel.\n"
          ]
        },
        {
          "output_type": "execute_result",
          "data": {
            "text/plain": [
              "array([ 4.3218611e-03, -3.2386504e-04,  7.7999369e-03, -8.4743556e-03,\n",
              "       -4.9776357e-04,  3.8069380e-03, -1.7189451e-03,  3.2465071e-03,\n",
              "        9.4113583e-03, -2.6028568e-03,  5.8170187e-04, -2.9537058e-03,\n",
              "       -7.0947490e-04,  9.6187904e-04,  2.4649389e-03,  7.0351623e-03,\n",
              "        3.6782641e-03,  9.6502958e-04, -1.8044327e-03, -8.7708293e-04,\n",
              "        5.2576954e-03, -4.6747350e-03, -8.4506609e-03, -7.4689887e-03,\n",
              "       -6.2430539e-05,  3.5528254e-03,  3.8700849e-03, -4.0458688e-03,\n",
              "        4.4309306e-03,  5.2428390e-03, -2.9984403e-03,  8.8422484e-04,\n",
              "       -6.8594324e-03,  8.2842968e-03, -4.4130054e-03, -3.3980927e-03,\n",
              "       -2.0888688e-03,  8.7501993e-03,  6.8632019e-04, -7.9294378e-03,\n",
              "        4.7761262e-03,  9.7155375e-03,  4.5305896e-03, -6.8368223e-03,\n",
              "       -6.9506136e-03, -4.4139815e-03, -5.8964207e-03,  7.9591246e-03,\n",
              "       -9.7422507e-03,  3.4747168e-03], dtype=float32)"
            ]
          },
          "metadata": {},
          "execution_count": 90
        }
      ]
    },
    {
      "cell_type": "code",
      "metadata": {
        "id": "UHy-KPXA7wcY",
        "colab": {
          "base_uri": "https://localhost:8080/"
        },
        "outputId": "8e5b79e0-b574-43fc-c1ce-a1abf9c8f4e6"
      },
      "source": [
        "skip_gram.vocabulary"
      ],
      "execution_count": null,
      "outputs": [
        {
          "output_type": "execute_result",
          "data": {
            "text/plain": [
              "<gensim.models.word2vec.Word2VecVocab at 0x7f9cc813ea10>"
            ]
          },
          "metadata": {},
          "execution_count": 91
        }
      ]
    },
    {
      "cell_type": "code",
      "metadata": {
        "id": "Ph73O7HP8Flq",
        "colab": {
          "base_uri": "https://localhost:8080/"
        },
        "outputId": "7cc42052-1f66-4238-a365-63014a2a9d47"
      },
      "source": [
        "skip_gram.wv.most_similar(\"amazing\",topn=5)"
      ],
      "execution_count": null,
      "outputs": [
        {
          "output_type": "execute_result",
          "data": {
            "text/plain": [
              "[('three', 0.512396514415741),\n",
              " ('wedding', 0.24269665777683258),\n",
              " ('valencia', 0.23555386066436768),\n",
              " ('but', 0.2029443383216858),\n",
              " ('my', 0.20292139053344727)]"
            ]
          },
          "metadata": {},
          "execution_count": 93
        }
      ]
    },
    {
      "cell_type": "code",
      "metadata": {
        "id": "DOI1bGNN8Uwt",
        "colab": {
          "base_uri": "https://localhost:8080/"
        },
        "outputId": "b323f957-0439-460d-bb11-6af91a3233d1"
      },
      "source": [
        "skip_gram.wv.most_similar(\"hotel\",topn=5)"
      ],
      "execution_count": null,
      "outputs": [
        {
          "output_type": "execute_result",
          "data": {
            "text/plain": [
              "[('my', 0.29724907875061035),\n",
              " ('i', 0.27244678139686584),\n",
              " ('so', 0.2547271251678467),\n",
              " ('wedding', 0.24277745187282562),\n",
              " ('everyone', 0.19404442608356476)]"
            ]
          },
          "metadata": {},
          "execution_count": 94
        }
      ]
    },
    {
      "cell_type": "code",
      "metadata": {
        "id": "Ky77XZwK8ylS",
        "colab": {
          "base_uri": "https://localhost:8080/"
        },
        "outputId": "c11c1e32-767d-43d4-f91e-6e4f1c4a98ff"
      },
      "source": [
        "skip_gram.similarity(\"amazing\",\"wedding\")"
      ],
      "execution_count": null,
      "outputs": [
        {
          "output_type": "stream",
          "name": "stderr",
          "text": [
            "/usr/local/lib/python3.7/dist-packages/ipykernel_launcher.py:1: DeprecationWarning: Call to deprecated `similarity` (Method will be removed in 4.0.0, use self.wv.similarity() instead).\n",
            "  \"\"\"Entry point for launching an IPython kernel.\n"
          ]
        },
        {
          "output_type": "execute_result",
          "data": {
            "text/plain": [
              "0.24269664"
            ]
          },
          "metadata": {},
          "execution_count": 97
        }
      ]
    },
    {
      "cell_type": "code",
      "metadata": {
        "id": "_md8InIf9Dhz"
      },
      "source": [
        "import gensim.downloader"
      ],
      "execution_count": null,
      "outputs": []
    },
    {
      "cell_type": "code",
      "metadata": {
        "id": "KICSeH4E9nXh",
        "colab": {
          "base_uri": "https://localhost:8080/"
        },
        "outputId": "1af92335-32d9-43cf-fe82-e413276b8c33"
      },
      "source": [
        "print(gensim.downloader.info()['models'].keys())"
      ],
      "execution_count": null,
      "outputs": [
        {
          "output_type": "stream",
          "name": "stdout",
          "text": [
            "dict_keys(['fasttext-wiki-news-subwords-300', 'conceptnet-numberbatch-17-06-300', 'word2vec-ruscorpora-300', 'word2vec-google-news-300', 'glove-wiki-gigaword-50', 'glove-wiki-gigaword-100', 'glove-wiki-gigaword-200', 'glove-wiki-gigaword-300', 'glove-twitter-25', 'glove-twitter-50', 'glove-twitter-100', 'glove-twitter-200', '__testing_word2vec-matrix-synopsis'])\n"
          ]
        }
      ]
    },
    {
      "cell_type": "markdown",
      "metadata": {
        "id": "rVbpDNOT9vpr"
      },
      "source": [
        ""
      ]
    },
    {
      "cell_type": "code",
      "metadata": {
        "id": "hwgx3AOq9szY"
      },
      "source": [
        "\n",
        "google_model = gensim.models.KeyedVectors.load_word2vec_format('https://s3.amazonaws.com/dl4j-distribution/GoogleNews-vectors-negative300.bin.gz', binary=True)"
      ],
      "execution_count": null,
      "outputs": []
    },
    {
      "cell_type": "code",
      "metadata": {
        "id": "FmSyq2y4-f8r",
        "colab": {
          "base_uri": "https://localhost:8080/"
        },
        "outputId": "b5331039-21ea-43c4-c69b-967d9f267b51"
      },
      "source": [
        "google_model.similarity(\"amazing\",\"wedding\")"
      ],
      "execution_count": null,
      "outputs": [
        {
          "output_type": "execute_result",
          "data": {
            "text/plain": [
              "0.093649864"
            ]
          },
          "metadata": {},
          "execution_count": 104
        }
      ]
    },
    {
      "cell_type": "code",
      "metadata": {
        "id": "JWHampNr_SVQ",
        "colab": {
          "base_uri": "https://localhost:8080/"
        },
        "outputId": "83a07752-6c6a-4526-e22d-f8ea1882407d"
      },
      "source": [
        "google_model.most_similar(\"amazing\",topn=10)"
      ],
      "execution_count": null,
      "outputs": [
        {
          "output_type": "execute_result",
          "data": {
            "text/plain": [
              "[('incredible', 0.9054000973701477), ('awesome', 0.8282865285873413), ('unbelievable', 0.8201264142990112), ('fantastic', 0.778986930847168), ('phenomenal', 0.7642048001289368), ('astounding', 0.7347068786621094), ('wonderful', 0.7263179421424866), ('unbelieveable', 0.7165080904960632), ('remarkable', 0.7095627188682556), ('marvelous', 0.7015583515167236)]"
            ]
          },
          "metadata": {},
          "execution_count": 106
        }
      ]
    },
    {
      "cell_type": "code",
      "metadata": {
        "id": "63VIvMl2_WnC",
        "colab": {
          "base_uri": "https://localhost:8080/"
        },
        "outputId": "c70ed114-8599-49d2-d703-65e0539e8758"
      },
      "source": [
        "glove_vectors = gensim.downloader.load('glove-twitter-25')"
      ],
      "execution_count": null,
      "outputs": [
        {
          "output_type": "stream",
          "name": "stdout",
          "text": [
            "[==================================================] 100.0% 104.8/104.8MB downloaded\n"
          ]
        }
      ]
    },
    {
      "cell_type": "code",
      "metadata": {
        "id": "8VPlM3DXAqyc",
        "colab": {
          "base_uri": "https://localhost:8080/"
        },
        "outputId": "1d2f9a49-fb55-4f52-fade-880ee1806003"
      },
      "source": [
        "glove_vectors.most_similar(\"twitter\")"
      ],
      "execution_count": null,
      "outputs": [
        {
          "output_type": "execute_result",
          "data": {
            "text/plain": [
              "[('facebook', 0.9480051398277283), ('tweet', 0.9403422474861145), ('fb', 0.9342358708381653), ('instagram', 0.9104823470115662), ('chat', 0.8964964747428894), ('hashtag', 0.8885936141014099), ('tweets', 0.8878157734870911), ('tl', 0.8778461813926697), ('link', 0.877821147441864), ('internet', 0.8753897547721863)]"
            ]
          },
          "metadata": {},
          "execution_count": 108
        }
      ]
    },
    {
      "cell_type": "code",
      "metadata": {
        "id": "3YM6SMYEBDwo",
        "colab": {
          "base_uri": "https://localhost:8080/"
        },
        "outputId": "2bd77e55-7aa7-47a3-e260-013af435ce92"
      },
      "source": [
        "glove_vectors.most_similar(\"fever\")"
      ],
      "execution_count": null,
      "outputs": [
        {
          "output_type": "execute_result",
          "data": {
            "text/plain": [
              "[('madness', 0.8380545377731323), ('hangover', 0.8293999433517456), ('blood', 0.8268291354179382), ('ball', 0.8101184368133545), ('storm', 0.802880585193634), ('moves', 0.8011404275894165), ('breaks', 0.7967645525932312), ('heavy', 0.7941038012504578), ('roll', 0.7921015024185181), ('rain', 0.7905168533325195)]"
            ]
          },
          "metadata": {},
          "execution_count": 110
        }
      ]
    },
    {
      "cell_type": "code",
      "metadata": {
        "id": "1swzmXJuBPBs",
        "colab": {
          "base_uri": "https://localhost:8080/"
        },
        "outputId": "7245ac9e-d744-4166-d0b4-10b8f7043023"
      },
      "source": [
        "glove_vectors.most_similar(\"love\")"
      ],
      "execution_count": null,
      "outputs": [
        {
          "output_type": "execute_result",
          "data": {
            "text/plain": [
              "[('you', 0.9448828101158142), ('baby', 0.9425430297851562), ('dream', 0.9267041683197021), ('miss', 0.924690842628479), ('much', 0.9215252995491028), ('see', 0.9197868704795837), ('happy', 0.9176183938980103), ('beautiful', 0.9173233509063721), ('smile', 0.9138967990875244), ('loves', 0.9123677611351013)]"
            ]
          },
          "metadata": {},
          "execution_count": 112
        }
      ]
    },
    {
      "cell_type": "code",
      "metadata": {
        "id": "yaFbQkLwBUOU",
        "colab": {
          "base_uri": "https://localhost:8080/"
        },
        "outputId": "ec482928-77e0-4363-d4e9-6a38e966584b"
      },
      "source": [
        "google_model.most_similar(\"chickenpox\")"
      ],
      "execution_count": null,
      "outputs": [
        {
          "output_type": "execute_result",
          "data": {
            "text/plain": [
              "[('chicken_pox', 0.8310383558273315), ('pertussis', 0.7549927234649658), ('whooping_cough', 0.7501357197761536), ('mumps', 0.731667697429657), ('measles', 0.7311848402023315), ('flu', 0.6890093088150024), ('bacterial_meningitis', 0.6813012957572937), ('meningococcal_disease', 0.6801390647888184), ('meningitis', 0.6754859089851379), ('pertussis_whooping_cough', 0.6667299270629883)]"
            ]
          },
          "metadata": {},
          "execution_count": 116
        }
      ]
    },
    {
      "cell_type": "code",
      "metadata": {
        "id": "bH3HRBQBBgYO",
        "colab": {
          "base_uri": "https://localhost:8080/"
        },
        "outputId": "00cfe250-a1a6-46ac-ac16-11413eddeb22"
      },
      "source": [
        "google_model.most_similar(positive=['love'],negative=['friend'],topn=5)"
      ],
      "execution_count": null,
      "outputs": [
        {
          "output_type": "execute_result",
          "data": {
            "text/plain": [
              "[('adore', 0.4266257584095001), ('crave', 0.38116225600242615), ('yearn', 0.37438708543777466), ('despise', 0.36400020122528076), ('hate', 0.35757672786712646)]"
            ]
          },
          "metadata": {},
          "execution_count": 120
        }
      ]
    },
    {
      "cell_type": "code",
      "metadata": {
        "id": "kB6WtjMGB5Tf"
      },
      "source": [
        "from gensim.models import FastText"
      ],
      "execution_count": null,
      "outputs": []
    }
  ]
}